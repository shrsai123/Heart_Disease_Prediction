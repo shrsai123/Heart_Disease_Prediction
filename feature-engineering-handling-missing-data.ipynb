{
 "cells": [
  {
   "cell_type": "markdown",
   "id": "07e3c875",
   "metadata": {
    "id": "bt_wjfXBtrgk",
    "papermill": {
     "duration": 0.01901,
     "end_time": "2023-02-19T16:53:01.249370",
     "exception": false,
     "start_time": "2023-02-19T16:53:01.230360",
     "status": "completed"
    },
    "tags": []
   },
   "source": [
    "# **Handling Missing Data**"
   ]
  },
  {
   "cell_type": "markdown",
   "id": "10890214",
   "metadata": {
    "id": "FDKimYnStku8",
    "papermill": {
     "duration": 0.017012,
     "end_time": "2023-02-19T16:53:01.284252",
     "exception": false,
     "start_time": "2023-02-19T16:53:01.267240",
     "status": "completed"
    },
    "tags": []
   },
   "source": [
    "- Machine Learning models are not good with missing values. We always need to remove missing data.\n",
    "\n",
    "- When our data has missing values, there are two options that we can do:\n",
    "1.  The first way to handle missing values is, **Removing the row**. But this option should be less preferred because removing the entire row can lead to removal of important values as well.\n",
    "\n",
    "2. The second way to handle missing data is to **impute them**. \n",
    "Imputing techniques are also of two types:  a) Univariate b) Multivariate"
   ]
  },
  {
   "cell_type": "markdown",
   "id": "34cbeecc",
   "metadata": {
    "id": "dJgF-GE3yOr5",
    "papermill": {
     "duration": 0.017037,
     "end_time": "2023-02-19T16:53:01.319760",
     "exception": false,
     "start_time": "2023-02-19T16:53:01.302723",
     "status": "completed"
    },
    "tags": []
   },
   "source": [
    "# Univariate and Multivariate"
   ]
  },
  {
   "cell_type": "markdown",
   "id": "a304d993",
   "metadata": {
    "id": "lIK7uC-wvhV_",
    "papermill": {
     "duration": 0.016939,
     "end_time": "2023-02-19T16:53:01.354225",
     "exception": false,
     "start_time": "2023-02-19T16:53:01.337286",
     "status": "completed"
    },
    "tags": []
   },
   "source": [
    "**Univariate:** Filling only one value at a time in only one column. There are different techniques in univariate depending on the missing data if it is Numerical or Categorical.\n",
    "\n",
    "- If the missing data is Numerical, it can either be filled with mean/median , filled with some random value or can be filled with 'end of distribution value'.\n",
    "\n",
    "- If the missing data is Categorical, it can either be filled with mode or simply write the word 'MISSING'.\n",
    "\n",
    "\n",
    "The class that is given for Univariate data is **Simple Imputer**.\n",
    "\n",
    "**Multivariate:** Filling more than one value at a time in multiple columns. Techniques for multivariate are **KNN Imputer Algorithm** and **Iterative Imputer** (which works on the algorithm MICE)\n",
    "\n",
    "\n",
    "Note: Both KNN Imputer and Iterative Imputer are classes.\n"
   ]
  },
  {
   "cell_type": "markdown",
   "id": "8cc4a116",
   "metadata": {
    "id": "Ivfzm7jSzHHR",
    "papermill": {
     "duration": 0.01675,
     "end_time": "2023-02-19T16:53:01.388516",
     "exception": false,
     "start_time": "2023-02-19T16:53:01.371766",
     "status": "completed"
    },
    "tags": []
   },
   "source": [
    "#1. Removing the Missing Data : CCA"
   ]
  },
  {
   "cell_type": "markdown",
   "id": "7394ee37",
   "metadata": {
    "id": "u-uzRyhhzjlE",
    "papermill": {
     "duration": 0.016843,
     "end_time": "2023-02-19T16:53:01.422494",
     "exception": false,
     "start_time": "2023-02-19T16:53:01.405651",
     "status": "completed"
    },
    "tags": []
   },
   "source": [
    "The approach of removing the Missing Data is called **CCA** or **Complete Case Analysis.**\n",
    "\n",
    "Complete Case Analysis is also called List-wise deletion of cases , consists in discarding observations(rows) where values in any of the variables(columns) are missing.\n",
    "\n",
    "Complete Case Analysis means literally analyzing only those observations(rows) for which there is information in all of the variables(columns) in the dataset.\n",
    "\n"
   ]
  },
  {
   "cell_type": "markdown",
   "id": "1b9f9773",
   "metadata": {
    "id": "DI0xa-02zkKq",
    "papermill": {
     "duration": 0.016764,
     "end_time": "2023-02-19T16:53:01.456171",
     "exception": false,
     "start_time": "2023-02-19T16:53:01.439407",
     "status": "completed"
    },
    "tags": []
   },
   "source": [
    "**Assumption for CCA:** Your data is missing completely at random.\n",
    "\n",
    "\n",
    "\n",
    "   example: if there is a dataset of 1000 rows and 4 columns and one of them is 'Age', suppose it has 50 missing values. so, if we are using CCA, 50 rows will be removed and the shape of the dataset will become (950 , 4) . We will only remove these values if we are sure that these 50 values are randomly missing from the dataset, this is known as Missing Completely At Random (MCAR)."
   ]
  },
  {
   "cell_type": "markdown",
   "id": "a43fbcdb",
   "metadata": {
    "id": "O8XxRbpN1MKB",
    "papermill": {
     "duration": 0.018868,
     "end_time": "2023-02-19T16:53:01.493231",
     "exception": false,
     "start_time": "2023-02-19T16:53:01.474363",
     "status": "completed"
    },
    "tags": []
   },
   "source": [
    "**Advantages and Disadvantages of CCA (Complete Case Analysis)**\n",
    "\n",
    "\n",
    "**Advantages:**\n",
    "- Easy to implement as no data manipulation required.\n",
    "- Preserves variable(column) distribution, if data is MCAR then the distribution of the reduced dataset should match the distribution in the original dataset.\n",
    "\n",
    "**Disadvantages:**\n",
    "- It can exclude a large fraction of the original dataset(if the missing data is abundant).\n",
    "- Excluded observations could be informative for the analysis (if the data is not missing at random)\n",
    "- When using model in production(after deployment) , the model will not know how to handle missing data."
   ]
  },
  {
   "cell_type": "markdown",
   "id": "246728c9",
   "metadata": {
    "id": "NkIjFT4M1Mld",
    "papermill": {
     "duration": 0.017436,
     "end_time": "2023-02-19T16:53:01.528841",
     "exception": false,
     "start_time": "2023-02-19T16:53:01.511405",
     "status": "completed"
    },
    "tags": []
   },
   "source": [
    "Note: Since the Disadvantages of CCA are more than advantages it is not prefered to used."
   ]
  },
  {
   "cell_type": "markdown",
   "id": "f7de828f",
   "metadata": {
    "id": "0uN453pE1M9-",
    "papermill": {
     "duration": 0.017571,
     "end_time": "2023-02-19T16:53:01.563695",
     "exception": false,
     "start_time": "2023-02-19T16:53:01.546124",
     "status": "completed"
    },
    "tags": []
   },
   "source": [
    "**When to use CCA (Complete Case Analysis) ?**\n",
    "- MCAR: meaning the data should be missing completely at random.\n",
    "- If the data is MCAR,then less than 5% of it should be missing.\n"
   ]
  },
  {
   "cell_type": "markdown",
   "id": "889c6cc0",
   "metadata": {
    "id": "RAvrn_4Kzkln",
    "papermill": {
     "duration": 0.0174,
     "end_time": "2023-02-19T16:53:01.598565",
     "exception": false,
     "start_time": "2023-02-19T16:53:01.581165",
     "status": "completed"
    },
    "tags": []
   },
   "source": [
    "# Code:  CCA(Complete Case Analysis)"
   ]
  },
  {
   "cell_type": "code",
   "execution_count": 1,
   "id": "02adc0f2",
   "metadata": {
    "execution": {
     "iopub.execute_input": "2023-02-19T16:53:01.635070Z",
     "iopub.status.busy": "2023-02-19T16:53:01.634281Z",
     "iopub.status.idle": "2023-02-19T16:53:01.644144Z",
     "shell.execute_reply": "2023-02-19T16:53:01.643302Z"
    },
    "id": "oP3OfpI_XuTo",
    "papermill": {
     "duration": 0.031083,
     "end_time": "2023-02-19T16:53:01.646695",
     "exception": false,
     "start_time": "2023-02-19T16:53:01.615612",
     "status": "completed"
    },
    "tags": []
   },
   "outputs": [],
   "source": [
    "import numpy as np\n",
    "import pandas as pd\n",
    "import matplotlib.pyplot as plt\n"
   ]
  },
  {
   "cell_type": "code",
   "execution_count": 2,
   "id": "8461f49c",
   "metadata": {
    "execution": {
     "iopub.execute_input": "2023-02-19T16:53:01.683143Z",
     "iopub.status.busy": "2023-02-19T16:53:01.682721Z",
     "iopub.status.idle": "2023-02-19T16:53:01.736260Z",
     "shell.execute_reply": "2023-02-19T16:53:01.734891Z"
    },
    "id": "HobrVpiDErpn",
    "papermill": {
     "duration": 0.075205,
     "end_time": "2023-02-19T16:53:01.739100",
     "exception": false,
     "start_time": "2023-02-19T16:53:01.663895",
     "status": "completed"
    },
    "tags": []
   },
   "outputs": [],
   "source": [
    "df = pd.read_csv('/kaggle/input/framingham-heart-study-dataset/framingham.csv')"
   ]
  },
  {
   "cell_type": "code",
   "execution_count": 3,
   "id": "adc90148",
   "metadata": {
    "execution": {
     "iopub.execute_input": "2023-02-19T16:53:01.776694Z",
     "iopub.status.busy": "2023-02-19T16:53:01.775895Z",
     "iopub.status.idle": "2023-02-19T16:53:01.805765Z",
     "shell.execute_reply": "2023-02-19T16:53:01.804573Z"
    },
    "id": "MbHVVDLCErr6",
    "outputId": "0a992226-3d6c-45d8-a483-83b45132760b",
    "papermill": {
     "duration": 0.051951,
     "end_time": "2023-02-19T16:53:01.808927",
     "exception": false,
     "start_time": "2023-02-19T16:53:01.756976",
     "status": "completed"
    },
    "tags": []
   },
   "outputs": [
    {
     "data": {
      "text/html": [
       "<div>\n",
       "<style scoped>\n",
       "    .dataframe tbody tr th:only-of-type {\n",
       "        vertical-align: middle;\n",
       "    }\n",
       "\n",
       "    .dataframe tbody tr th {\n",
       "        vertical-align: top;\n",
       "    }\n",
       "\n",
       "    .dataframe thead th {\n",
       "        text-align: right;\n",
       "    }\n",
       "</style>\n",
       "<table border=\"1\" class=\"dataframe\">\n",
       "  <thead>\n",
       "    <tr style=\"text-align: right;\">\n",
       "      <th></th>\n",
       "      <th>male</th>\n",
       "      <th>age</th>\n",
       "      <th>education</th>\n",
       "      <th>currentSmoker</th>\n",
       "      <th>cigsPerDay</th>\n",
       "      <th>BPMeds</th>\n",
       "      <th>prevalentStroke</th>\n",
       "      <th>prevalentHyp</th>\n",
       "      <th>diabetes</th>\n",
       "      <th>totChol</th>\n",
       "      <th>sysBP</th>\n",
       "      <th>diaBP</th>\n",
       "      <th>BMI</th>\n",
       "      <th>heartRate</th>\n",
       "      <th>glucose</th>\n",
       "      <th>TenYearCHD</th>\n",
       "    </tr>\n",
       "  </thead>\n",
       "  <tbody>\n",
       "    <tr>\n",
       "      <th>0</th>\n",
       "      <td>1</td>\n",
       "      <td>39</td>\n",
       "      <td>4.0</td>\n",
       "      <td>0</td>\n",
       "      <td>0.0</td>\n",
       "      <td>0.0</td>\n",
       "      <td>0</td>\n",
       "      <td>0</td>\n",
       "      <td>0</td>\n",
       "      <td>195.0</td>\n",
       "      <td>106.0</td>\n",
       "      <td>70.0</td>\n",
       "      <td>26.97</td>\n",
       "      <td>80.0</td>\n",
       "      <td>77.0</td>\n",
       "      <td>0</td>\n",
       "    </tr>\n",
       "    <tr>\n",
       "      <th>1</th>\n",
       "      <td>0</td>\n",
       "      <td>46</td>\n",
       "      <td>2.0</td>\n",
       "      <td>0</td>\n",
       "      <td>0.0</td>\n",
       "      <td>0.0</td>\n",
       "      <td>0</td>\n",
       "      <td>0</td>\n",
       "      <td>0</td>\n",
       "      <td>250.0</td>\n",
       "      <td>121.0</td>\n",
       "      <td>81.0</td>\n",
       "      <td>28.73</td>\n",
       "      <td>95.0</td>\n",
       "      <td>76.0</td>\n",
       "      <td>0</td>\n",
       "    </tr>\n",
       "    <tr>\n",
       "      <th>2</th>\n",
       "      <td>1</td>\n",
       "      <td>48</td>\n",
       "      <td>1.0</td>\n",
       "      <td>1</td>\n",
       "      <td>20.0</td>\n",
       "      <td>0.0</td>\n",
       "      <td>0</td>\n",
       "      <td>0</td>\n",
       "      <td>0</td>\n",
       "      <td>245.0</td>\n",
       "      <td>127.5</td>\n",
       "      <td>80.0</td>\n",
       "      <td>25.34</td>\n",
       "      <td>75.0</td>\n",
       "      <td>70.0</td>\n",
       "      <td>0</td>\n",
       "    </tr>\n",
       "    <tr>\n",
       "      <th>3</th>\n",
       "      <td>0</td>\n",
       "      <td>61</td>\n",
       "      <td>3.0</td>\n",
       "      <td>1</td>\n",
       "      <td>30.0</td>\n",
       "      <td>0.0</td>\n",
       "      <td>0</td>\n",
       "      <td>1</td>\n",
       "      <td>0</td>\n",
       "      <td>225.0</td>\n",
       "      <td>150.0</td>\n",
       "      <td>95.0</td>\n",
       "      <td>28.58</td>\n",
       "      <td>65.0</td>\n",
       "      <td>103.0</td>\n",
       "      <td>1</td>\n",
       "    </tr>\n",
       "    <tr>\n",
       "      <th>4</th>\n",
       "      <td>0</td>\n",
       "      <td>46</td>\n",
       "      <td>3.0</td>\n",
       "      <td>1</td>\n",
       "      <td>23.0</td>\n",
       "      <td>0.0</td>\n",
       "      <td>0</td>\n",
       "      <td>0</td>\n",
       "      <td>0</td>\n",
       "      <td>285.0</td>\n",
       "      <td>130.0</td>\n",
       "      <td>84.0</td>\n",
       "      <td>23.10</td>\n",
       "      <td>85.0</td>\n",
       "      <td>85.0</td>\n",
       "      <td>0</td>\n",
       "    </tr>\n",
       "  </tbody>\n",
       "</table>\n",
       "</div>"
      ],
      "text/plain": [
       "   male  age  education  currentSmoker  cigsPerDay  BPMeds  prevalentStroke  \\\n",
       "0     1   39        4.0              0         0.0     0.0                0   \n",
       "1     0   46        2.0              0         0.0     0.0                0   \n",
       "2     1   48        1.0              1        20.0     0.0                0   \n",
       "3     0   61        3.0              1        30.0     0.0                0   \n",
       "4     0   46        3.0              1        23.0     0.0                0   \n",
       "\n",
       "   prevalentHyp  diabetes  totChol  sysBP  diaBP    BMI  heartRate  glucose  \\\n",
       "0             0         0    195.0  106.0   70.0  26.97       80.0     77.0   \n",
       "1             0         0    250.0  121.0   81.0  28.73       95.0     76.0   \n",
       "2             0         0    245.0  127.5   80.0  25.34       75.0     70.0   \n",
       "3             1         0    225.0  150.0   95.0  28.58       65.0    103.0   \n",
       "4             0         0    285.0  130.0   84.0  23.10       85.0     85.0   \n",
       "\n",
       "   TenYearCHD  \n",
       "0           0  \n",
       "1           0  \n",
       "2           0  \n",
       "3           1  \n",
       "4           0  "
      ]
     },
     "execution_count": 3,
     "metadata": {},
     "output_type": "execute_result"
    }
   ],
   "source": [
    "df.head()"
   ]
  },
  {
   "cell_type": "code",
   "execution_count": 4,
   "id": "80e86ff6",
   "metadata": {
    "execution": {
     "iopub.execute_input": "2023-02-19T16:53:01.846250Z",
     "iopub.status.busy": "2023-02-19T16:53:01.845539Z",
     "iopub.status.idle": "2023-02-19T16:53:01.854348Z",
     "shell.execute_reply": "2023-02-19T16:53:01.853208Z"
    },
    "id": "4zW8Cpa-Eru2",
    "outputId": "e6c475e8-b6f8-4c15-d49e-2c089ac871d7",
    "papermill": {
     "duration": 0.029922,
     "end_time": "2023-02-19T16:53:01.856447",
     "exception": false,
     "start_time": "2023-02-19T16:53:01.826525",
     "status": "completed"
    },
    "tags": []
   },
   "outputs": [
    {
     "data": {
      "text/plain": [
       "male                 0\n",
       "age                  0\n",
       "education          105\n",
       "currentSmoker        0\n",
       "cigsPerDay          29\n",
       "BPMeds              53\n",
       "prevalentStroke      0\n",
       "prevalentHyp         0\n",
       "diabetes             0\n",
       "totChol             50\n",
       "sysBP                0\n",
       "diaBP                0\n",
       "BMI                 19\n",
       "heartRate            1\n",
       "glucose            388\n",
       "TenYearCHD           0\n",
       "dtype: int64"
      ]
     },
     "execution_count": 4,
     "metadata": {},
     "output_type": "execute_result"
    }
   ],
   "source": [
    "df.isnull().sum()"
   ]
  },
  {
   "cell_type": "code",
   "execution_count": 5,
   "id": "549581f6",
   "metadata": {
    "execution": {
     "iopub.execute_input": "2023-02-19T16:53:01.894642Z",
     "iopub.status.busy": "2023-02-19T16:53:01.893930Z",
     "iopub.status.idle": "2023-02-19T16:53:01.899608Z",
     "shell.execute_reply": "2023-02-19T16:53:01.898807Z"
    },
    "id": "UEM_TEe5Erxy",
    "outputId": "126e498f-4588-40de-d999-0aa504ad08ef",
    "papermill": {
     "duration": 0.0271,
     "end_time": "2023-02-19T16:53:01.901599",
     "exception": false,
     "start_time": "2023-02-19T16:53:01.874499",
     "status": "completed"
    },
    "tags": []
   },
   "outputs": [
    {
     "data": {
      "text/plain": [
       "(4240, 16)"
      ]
     },
     "execution_count": 5,
     "metadata": {},
     "output_type": "execute_result"
    }
   ],
   "source": [
    "df.shape"
   ]
  },
  {
   "cell_type": "markdown",
   "id": "7634c546",
   "metadata": {
    "id": "xXLqaRvnEqv2",
    "papermill": {
     "duration": 0.017444,
     "end_time": "2023-02-19T16:53:01.936949",
     "exception": false,
     "start_time": "2023-02-19T16:53:01.919505",
     "status": "completed"
    },
    "tags": []
   },
   "source": [
    "**Inference**:  As we now know that CCA can be applied only if less than 5% of the data is missing from a column. In this dataset, CCA can be applied on Education , CigsPerDay , BPMeds , totChol , BMI , heartRate columns."
   ]
  },
  {
   "cell_type": "markdown",
   "id": "f0c41030",
   "metadata": {
    "id": "2IJs3ygDFeY_",
    "papermill": {
     "duration": 0.017596,
     "end_time": "2023-02-19T16:53:01.972345",
     "exception": false,
     "start_time": "2023-02-19T16:53:01.954749",
     "status": "completed"
    },
    "tags": []
   },
   "source": [
    "Fetching these 6 Null value columns"
   ]
  },
  {
   "cell_type": "code",
   "execution_count": 6,
   "id": "83726a18",
   "metadata": {
    "execution": {
     "iopub.execute_input": "2023-02-19T16:53:02.010498Z",
     "iopub.status.busy": "2023-02-19T16:53:02.009641Z",
     "iopub.status.idle": "2023-02-19T16:53:02.028678Z",
     "shell.execute_reply": "2023-02-19T16:53:02.027834Z"
    },
    "id": "bALPKNxeEr0Z",
    "outputId": "843f150b-6af0-4032-bd72-bfdd1132f89a",
    "papermill": {
     "duration": 0.040457,
     "end_time": "2023-02-19T16:53:02.030733",
     "exception": false,
     "start_time": "2023-02-19T16:53:01.990276",
     "status": "completed"
    },
    "tags": []
   },
   "outputs": [
    {
     "data": {
      "text/plain": [
       "['education', 'cigsPerDay', 'BPMeds', 'totChol', 'BMI', 'heartRate']"
      ]
     },
     "execution_count": 6,
     "metadata": {},
     "output_type": "execute_result"
    }
   ],
   "source": [
    "cols = [var for var in df.columns if df[var].isnull().mean() < 0.05 and df[var].isnull().mean() > 0]\n",
    "cols"
   ]
  },
  {
   "cell_type": "code",
   "execution_count": 7,
   "id": "7e4e33d3",
   "metadata": {
    "execution": {
     "iopub.execute_input": "2023-02-19T16:53:02.068550Z",
     "iopub.status.busy": "2023-02-19T16:53:02.068137Z",
     "iopub.status.idle": "2023-02-19T16:53:02.095383Z",
     "shell.execute_reply": "2023-02-19T16:53:02.094097Z"
    },
    "id": "cEX-beTCEr2w",
    "outputId": "db972d03-7c2a-47ac-8d50-a933117576be",
    "papermill": {
     "duration": 0.04933,
     "end_time": "2023-02-19T16:53:02.097981",
     "exception": false,
     "start_time": "2023-02-19T16:53:02.048651",
     "status": "completed"
    },
    "tags": []
   },
   "outputs": [
    {
     "data": {
      "text/html": [
       "<div>\n",
       "<style scoped>\n",
       "    .dataframe tbody tr th:only-of-type {\n",
       "        vertical-align: middle;\n",
       "    }\n",
       "\n",
       "    .dataframe tbody tr th {\n",
       "        vertical-align: top;\n",
       "    }\n",
       "\n",
       "    .dataframe thead th {\n",
       "        text-align: right;\n",
       "    }\n",
       "</style>\n",
       "<table border=\"1\" class=\"dataframe\">\n",
       "  <thead>\n",
       "    <tr style=\"text-align: right;\">\n",
       "      <th></th>\n",
       "      <th>education</th>\n",
       "      <th>cigsPerDay</th>\n",
       "      <th>BPMeds</th>\n",
       "      <th>totChol</th>\n",
       "      <th>BMI</th>\n",
       "      <th>heartRate</th>\n",
       "    </tr>\n",
       "  </thead>\n",
       "  <tbody>\n",
       "    <tr>\n",
       "      <th>1654</th>\n",
       "      <td>NaN</td>\n",
       "      <td>20.0</td>\n",
       "      <td>0.0</td>\n",
       "      <td>168.0</td>\n",
       "      <td>23.08</td>\n",
       "      <td>75.0</td>\n",
       "    </tr>\n",
       "    <tr>\n",
       "      <th>316</th>\n",
       "      <td>1.0</td>\n",
       "      <td>20.0</td>\n",
       "      <td>0.0</td>\n",
       "      <td>260.0</td>\n",
       "      <td>21.05</td>\n",
       "      <td>85.0</td>\n",
       "    </tr>\n",
       "    <tr>\n",
       "      <th>22</th>\n",
       "      <td>1.0</td>\n",
       "      <td>0.0</td>\n",
       "      <td>0.0</td>\n",
       "      <td>234.0</td>\n",
       "      <td>34.17</td>\n",
       "      <td>70.0</td>\n",
       "    </tr>\n",
       "    <tr>\n",
       "      <th>1593</th>\n",
       "      <td>3.0</td>\n",
       "      <td>3.0</td>\n",
       "      <td>0.0</td>\n",
       "      <td>186.0</td>\n",
       "      <td>21.01</td>\n",
       "      <td>80.0</td>\n",
       "    </tr>\n",
       "    <tr>\n",
       "      <th>1547</th>\n",
       "      <td>4.0</td>\n",
       "      <td>0.0</td>\n",
       "      <td>0.0</td>\n",
       "      <td>182.0</td>\n",
       "      <td>20.02</td>\n",
       "      <td>90.0</td>\n",
       "    </tr>\n",
       "  </tbody>\n",
       "</table>\n",
       "</div>"
      ],
      "text/plain": [
       "      education  cigsPerDay  BPMeds  totChol    BMI  heartRate\n",
       "1654        NaN        20.0     0.0    168.0  23.08       75.0\n",
       "316         1.0        20.0     0.0    260.0  21.05       85.0\n",
       "22          1.0         0.0     0.0    234.0  34.17       70.0\n",
       "1593        3.0         3.0     0.0    186.0  21.01       80.0\n",
       "1547        4.0         0.0     0.0    182.0  20.02       90.0"
      ]
     },
     "execution_count": 7,
     "metadata": {},
     "output_type": "execute_result"
    }
   ],
   "source": [
    "df[cols].sample(5)"
   ]
  },
  {
   "cell_type": "markdown",
   "id": "4a8a3106",
   "metadata": {
    "id": "IopRe9IdGkNP",
    "papermill": {
     "duration": 0.017733,
     "end_time": "2023-02-19T16:53:02.134025",
     "exception": false,
     "start_time": "2023-02-19T16:53:02.116292",
     "status": "completed"
    },
    "tags": []
   },
   "source": [
    "Let us see if we drop the missing values, how much data will be left.\n"
   ]
  },
  {
   "cell_type": "code",
   "execution_count": 8,
   "id": "33e23d82",
   "metadata": {
    "execution": {
     "iopub.execute_input": "2023-02-19T16:53:02.172287Z",
     "iopub.status.busy": "2023-02-19T16:53:02.171431Z",
     "iopub.status.idle": "2023-02-19T16:53:02.179774Z",
     "shell.execute_reply": "2023-02-19T16:53:02.179016Z"
    },
    "id": "JMKJ88cFEr55",
    "outputId": "ae236322-4837-4711-c1e1-bdf0d283329d",
    "papermill": {
     "duration": 0.029858,
     "end_time": "2023-02-19T16:53:02.182027",
     "exception": false,
     "start_time": "2023-02-19T16:53:02.152169",
     "status": "completed"
    },
    "tags": []
   },
   "outputs": [
    {
     "data": {
      "text/plain": [
       "0.9408018867924528"
      ]
     },
     "execution_count": 8,
     "metadata": {},
     "output_type": "execute_result"
    }
   ],
   "source": [
    "len(df[cols].dropna()) / len(df)"
   ]
  },
  {
   "cell_type": "markdown",
   "id": "6717cf72",
   "metadata": {
    "id": "EzJK4orFG1BD",
    "papermill": {
     "duration": 0.018047,
     "end_time": "2023-02-19T16:53:02.218786",
     "exception": false,
     "start_time": "2023-02-19T16:53:02.200739",
     "status": "completed"
    },
    "tags": []
   },
   "source": [
    "94% data will be left after removal of null values."
   ]
  },
  {
   "cell_type": "code",
   "execution_count": 9,
   "id": "b7f94fd7",
   "metadata": {
    "execution": {
     "iopub.execute_input": "2023-02-19T16:53:02.258334Z",
     "iopub.status.busy": "2023-02-19T16:53:02.257919Z",
     "iopub.status.idle": "2023-02-19T16:53:02.268410Z",
     "shell.execute_reply": "2023-02-19T16:53:02.267301Z"
    },
    "id": "2Pr_Umq9GwOV",
    "outputId": "7bdea2e9-54a2-45bf-b807-92af0899b2c7",
    "papermill": {
     "duration": 0.033511,
     "end_time": "2023-02-19T16:53:02.270576",
     "exception": false,
     "start_time": "2023-02-19T16:53:02.237065",
     "status": "completed"
    },
    "tags": []
   },
   "outputs": [
    {
     "data": {
      "text/plain": [
       "((4240, 16), (3989, 6))"
      ]
     },
     "execution_count": 9,
     "metadata": {},
     "output_type": "execute_result"
    }
   ],
   "source": [
    "new_df = df[cols].dropna()\n",
    "df.shape , new_df.shape"
   ]
  },
  {
   "cell_type": "markdown",
   "id": "69d85424",
   "metadata": {
    "id": "rredWrKLHZd3",
    "papermill": {
     "duration": 0.018902,
     "end_time": "2023-02-19T16:53:02.307841",
     "exception": false,
     "start_time": "2023-02-19T16:53:02.288939",
     "status": "completed"
    },
    "tags": []
   },
   "source": [
    "**TIP:** If you have applied CCA on numerical data, then plot a Histogram for before applying CCA and after applying CCA, if both the distributions are comparable, then you're good to go."
   ]
  },
  {
   "cell_type": "markdown",
   "id": "c0901dc6",
   "metadata": {
    "id": "HC4VKcD1H_V9",
    "papermill": {
     "duration": 0.025911,
     "end_time": "2023-02-19T16:53:02.353146",
     "exception": false,
     "start_time": "2023-02-19T16:53:02.327235",
     "status": "completed"
    },
    "tags": []
   },
   "source": [
    "Plotting a Histogram for old and new dataframe comparision."
   ]
  },
  {
   "cell_type": "code",
   "execution_count": 10,
   "id": "1a54a3f7",
   "metadata": {
    "execution": {
     "iopub.execute_input": "2023-02-19T16:53:02.400017Z",
     "iopub.status.busy": "2023-02-19T16:53:02.399178Z",
     "iopub.status.idle": "2023-02-19T16:53:02.847285Z",
     "shell.execute_reply": "2023-02-19T16:53:02.846377Z"
    },
    "id": "iDCd1lZVHTJ3",
    "outputId": "83da122b-275d-426d-e88b-3b56f5304240",
    "papermill": {
     "duration": 0.470643,
     "end_time": "2023-02-19T16:53:02.849687",
     "exception": false,
     "start_time": "2023-02-19T16:53:02.379044",
     "status": "completed"
    },
    "tags": []
   },
   "outputs": [
    {
     "data": {
      "text/plain": [
       "<AxesSubplot:>"
      ]
     },
     "execution_count": 10,
     "metadata": {},
     "output_type": "execute_result"
    },
    {
     "data": {
      "image/png": "[encoded data removed]",
      "text/plain": [
       "<Figure size 640x480 with 1 Axes>"
      ]
     },
     "metadata": {},
     "output_type": "display_data"
    }
   ],
   "source": [
    "fig = plt.figure()\n",
    "ax = fig.add_subplot(111)\n",
    "\n",
    "#original data\n",
    "df['BMI'].hist(bins = 50, ax = ax, density = True , color = 'red')\n",
    "\n",
    "#new data\n",
    "new_df['BMI'].hist(bins = 50, ax = ax, density = True , color = 'blue' , alpha = 0.8)\n"
   ]
  },
  {
   "cell_type": "markdown",
   "id": "ec39c4d0",
   "metadata": {
    "id": "bYMgNqndJaEg",
    "papermill": {
     "duration": 0.018255,
     "end_time": "2023-02-19T16:53:02.886596",
     "exception": false,
     "start_time": "2023-02-19T16:53:02.868341",
     "status": "completed"
    },
    "tags": []
   },
   "source": [
    "**Inference:** Both the distributions overlap each other and they are comparable, we're cool with CCA :)"
   ]
  },
  {
   "cell_type": "markdown",
   "id": "fc78c2c3",
   "metadata": {
    "id": "ZGulV0boaQMB",
    "papermill": {
     "duration": 0.018755,
     "end_time": "2023-02-19T16:53:02.923985",
     "exception": false,
     "start_time": "2023-02-19T16:53:02.905230",
     "status": "completed"
    },
    "tags": []
   },
   "source": [
    "#2.Filling Missing Values:  Simple Imputer: Numerical Data"
   ]
  },
  {
   "cell_type": "markdown",
   "id": "1839da84",
   "metadata": {
    "id": "JGFMmzb4aQmO",
    "papermill": {
     "duration": 0.018603,
     "end_time": "2023-02-19T16:53:02.961089",
     "exception": false,
     "start_time": "2023-02-19T16:53:02.942486",
     "status": "completed"
    },
    "tags": []
   },
   "source": [
    "There are two approaches, Univariate imputer and Multivariate Imputer. "
   ]
  },
  {
   "cell_type": "markdown",
   "id": "4efcdc6d",
   "metadata": {
    "id": "y1Cchc9naQ7t",
    "papermill": {
     "duration": 0.018279,
     "end_time": "2023-02-19T16:53:02.998145",
     "exception": false,
     "start_time": "2023-02-19T16:53:02.979866",
     "status": "completed"
    },
    "tags": []
   },
   "source": [
    "We can fill these values through:\n",
    "\n",
    "\n",
    "1.   Mean/Median\n",
    "2.   Arbitary values\n",
    "3.   end of distribution\n",
    "4.   Random\n",
    "\n"
   ]
  },
  {
   "cell_type": "markdown",
   "id": "540e9d1f",
   "metadata": {
    "id": "Eh9klFe2y4ZX",
    "papermill": {
     "duration": 0.018375,
     "end_time": "2023-02-19T16:53:03.035736",
     "exception": false,
     "start_time": "2023-02-19T16:53:03.017361",
     "status": "completed"
    },
    "tags": []
   },
   "source": [
    "# Mean/Median method"
   ]
  },
  {
   "cell_type": "markdown",
   "id": "817c1fdb",
   "metadata": {
    "id": "0SXZtax3cAbC",
    "papermill": {
     "duration": 0.018064,
     "end_time": "2023-02-19T16:53:03.072235",
     "exception": false,
     "start_time": "2023-02-19T16:53:03.054171",
     "status": "completed"
    },
    "tags": []
   },
   "source": [
    "example: if we had column age and it has 2,3 numerical values and then missing values...in this case we can simply use mean/median of the column to fill the values. \n",
    "\n",
    "**When to use this method?**\n",
    "\n",
    "When the data is missing completely at random and usage of this method is reliable if the missing data is less than 5%.\n",
    "\n",
    "**When to use Mean and when to use Median?**\n",
    "\n",
    "To answer this question, we need to look at the distribution of the data, if it is a Guassian distribution or bell distribution  or normally distributed we can use Mean. On the other hand if it is a Skewed distribution, then median of the data can be used.\n",
    "\n"
   ]
  },
  {
   "cell_type": "markdown",
   "id": "c34d7e2b",
   "metadata": {
    "id": "sr5B3Srbb_A6",
    "papermill": {
     "duration": 0.018148,
     "end_time": "2023-02-19T16:53:03.109011",
     "exception": false,
     "start_time": "2023-02-19T16:53:03.090863",
     "status": "completed"
    },
    "tags": []
   },
   "source": [
    "**Disadvantages of using Mean/Median:**\n",
    "\n",
    "\n",
    "1.   changes the distribution of the data\n",
    "2.   adds extra outliers\n",
    "3.   creates covarience(relation of that column with other columns) in the data\n",
    "\n",
    "\n"
   ]
  },
  {
   "cell_type": "markdown",
   "id": "0dd51b47",
   "metadata": {
    "id": "vNddv8cod-K8",
    "papermill": {
     "duration": 0.018296,
     "end_time": "2023-02-19T16:53:03.147039",
     "exception": false,
     "start_time": "2023-02-19T16:53:03.128743",
     "status": "completed"
    },
    "tags": []
   },
   "source": [
    "# Code: Mean/Median method"
   ]
  },
  {
   "cell_type": "markdown",
   "id": "36c8d49c",
   "metadata": {
    "id": "obTpk3H4d-lW",
    "papermill": {
     "duration": 0.018168,
     "end_time": "2023-02-19T16:53:03.183755",
     "exception": false,
     "start_time": "2023-02-19T16:53:03.165587",
     "status": "completed"
    },
    "tags": []
   },
   "source": []
  },
  {
   "cell_type": "code",
   "execution_count": 11,
   "id": "2b7e9832",
   "metadata": {
    "execution": {
     "iopub.execute_input": "2023-02-19T16:53:03.223151Z",
     "iopub.status.busy": "2023-02-19T16:53:03.222398Z",
     "iopub.status.idle": "2023-02-19T16:53:03.227000Z",
     "shell.execute_reply": "2023-02-19T16:53:03.226146Z"
    },
    "id": "2lc-uzIHIbew",
    "papermill": {
     "duration": 0.02696,
     "end_time": "2023-02-19T16:53:03.229192",
     "exception": false,
     "start_time": "2023-02-19T16:53:03.202232",
     "status": "completed"
    },
    "tags": []
   },
   "outputs": [],
   "source": [
    "import numpy as np\n",
    "import pandas as pd\n",
    "import matplotlib.pyplot as plt\n"
   ]
  },
  {
   "cell_type": "code",
   "execution_count": 12,
   "id": "f128f0e1",
   "metadata": {
    "execution": {
     "iopub.execute_input": "2023-02-19T16:53:03.268781Z",
     "iopub.status.busy": "2023-02-19T16:53:03.268161Z",
     "iopub.status.idle": "2023-02-19T16:53:04.540651Z",
     "shell.execute_reply": "2023-02-19T16:53:04.539575Z"
    },
    "id": "3ZBJxuaVejtm",
    "papermill": {
     "duration": 1.29544,
     "end_time": "2023-02-19T16:53:04.543465",
     "exception": false,
     "start_time": "2023-02-19T16:53:03.248025",
     "status": "completed"
    },
    "tags": []
   },
   "outputs": [],
   "source": [
    "from sklearn.model_selection import train_test_split\n",
    "from sklearn.impute import SimpleImputer\n",
    "from sklearn.compose import ColumnTransformer"
   ]
  },
  {
   "cell_type": "code",
   "execution_count": 13,
   "id": "ad4d2151",
   "metadata": {
    "execution": {
     "iopub.execute_input": "2023-02-19T16:53:04.583333Z",
     "iopub.status.busy": "2023-02-19T16:53:04.582402Z",
     "iopub.status.idle": "2023-02-19T16:53:04.597998Z",
     "shell.execute_reply": "2023-02-19T16:53:04.597000Z"
    },
    "id": "Bv2ERDNbfjKO",
    "papermill": {
     "duration": 0.038476,
     "end_time": "2023-02-19T16:53:04.600742",
     "exception": false,
     "start_time": "2023-02-19T16:53:04.562266",
     "status": "completed"
    },
    "tags": []
   },
   "outputs": [],
   "source": [
    "df2 = pd.read_csv('/kaggle/input/framingham-heart-study-dataset/framingham.csv')"
   ]
  },
  {
   "cell_type": "code",
   "execution_count": 14,
   "id": "18db389f",
   "metadata": {
    "execution": {
     "iopub.execute_input": "2023-02-19T16:53:04.643044Z",
     "iopub.status.busy": "2023-02-19T16:53:04.642183Z",
     "iopub.status.idle": "2023-02-19T16:53:04.663928Z",
     "shell.execute_reply": "2023-02-19T16:53:04.662766Z"
    },
    "id": "dachml_kiGEp",
    "outputId": "3f68ad2e-941b-4cfc-e884-2e6c83ca6366",
    "papermill": {
     "duration": 0.044625,
     "end_time": "2023-02-19T16:53:04.666394",
     "exception": false,
     "start_time": "2023-02-19T16:53:04.621769",
     "status": "completed"
    },
    "tags": []
   },
   "outputs": [
    {
     "data": {
      "text/html": [
       "<div>\n",
       "<style scoped>\n",
       "    .dataframe tbody tr th:only-of-type {\n",
       "        vertical-align: middle;\n",
       "    }\n",
       "\n",
       "    .dataframe tbody tr th {\n",
       "        vertical-align: top;\n",
       "    }\n",
       "\n",
       "    .dataframe thead th {\n",
       "        text-align: right;\n",
       "    }\n",
       "</style>\n",
       "<table border=\"1\" class=\"dataframe\">\n",
       "  <thead>\n",
       "    <tr style=\"text-align: right;\">\n",
       "      <th></th>\n",
       "      <th>male</th>\n",
       "      <th>age</th>\n",
       "      <th>education</th>\n",
       "      <th>currentSmoker</th>\n",
       "      <th>cigsPerDay</th>\n",
       "      <th>BPMeds</th>\n",
       "      <th>prevalentStroke</th>\n",
       "      <th>prevalentHyp</th>\n",
       "      <th>diabetes</th>\n",
       "      <th>totChol</th>\n",
       "      <th>sysBP</th>\n",
       "      <th>diaBP</th>\n",
       "      <th>BMI</th>\n",
       "      <th>heartRate</th>\n",
       "      <th>glucose</th>\n",
       "      <th>TenYearCHD</th>\n",
       "    </tr>\n",
       "  </thead>\n",
       "  <tbody>\n",
       "    <tr>\n",
       "      <th>0</th>\n",
       "      <td>1</td>\n",
       "      <td>39</td>\n",
       "      <td>4.0</td>\n",
       "      <td>0</td>\n",
       "      <td>0.0</td>\n",
       "      <td>0.0</td>\n",
       "      <td>0</td>\n",
       "      <td>0</td>\n",
       "      <td>0</td>\n",
       "      <td>195.0</td>\n",
       "      <td>106.0</td>\n",
       "      <td>70.0</td>\n",
       "      <td>26.97</td>\n",
       "      <td>80.0</td>\n",
       "      <td>77.0</td>\n",
       "      <td>0</td>\n",
       "    </tr>\n",
       "    <tr>\n",
       "      <th>1</th>\n",
       "      <td>0</td>\n",
       "      <td>46</td>\n",
       "      <td>2.0</td>\n",
       "      <td>0</td>\n",
       "      <td>0.0</td>\n",
       "      <td>0.0</td>\n",
       "      <td>0</td>\n",
       "      <td>0</td>\n",
       "      <td>0</td>\n",
       "      <td>250.0</td>\n",
       "      <td>121.0</td>\n",
       "      <td>81.0</td>\n",
       "      <td>28.73</td>\n",
       "      <td>95.0</td>\n",
       "      <td>76.0</td>\n",
       "      <td>0</td>\n",
       "    </tr>\n",
       "    <tr>\n",
       "      <th>2</th>\n",
       "      <td>1</td>\n",
       "      <td>48</td>\n",
       "      <td>1.0</td>\n",
       "      <td>1</td>\n",
       "      <td>20.0</td>\n",
       "      <td>0.0</td>\n",
       "      <td>0</td>\n",
       "      <td>0</td>\n",
       "      <td>0</td>\n",
       "      <td>245.0</td>\n",
       "      <td>127.5</td>\n",
       "      <td>80.0</td>\n",
       "      <td>25.34</td>\n",
       "      <td>75.0</td>\n",
       "      <td>70.0</td>\n",
       "      <td>0</td>\n",
       "    </tr>\n",
       "    <tr>\n",
       "      <th>3</th>\n",
       "      <td>0</td>\n",
       "      <td>61</td>\n",
       "      <td>3.0</td>\n",
       "      <td>1</td>\n",
       "      <td>30.0</td>\n",
       "      <td>0.0</td>\n",
       "      <td>0</td>\n",
       "      <td>1</td>\n",
       "      <td>0</td>\n",
       "      <td>225.0</td>\n",
       "      <td>150.0</td>\n",
       "      <td>95.0</td>\n",
       "      <td>28.58</td>\n",
       "      <td>65.0</td>\n",
       "      <td>103.0</td>\n",
       "      <td>1</td>\n",
       "    </tr>\n",
       "    <tr>\n",
       "      <th>4</th>\n",
       "      <td>0</td>\n",
       "      <td>46</td>\n",
       "      <td>3.0</td>\n",
       "      <td>1</td>\n",
       "      <td>23.0</td>\n",
       "      <td>0.0</td>\n",
       "      <td>0</td>\n",
       "      <td>0</td>\n",
       "      <td>0</td>\n",
       "      <td>285.0</td>\n",
       "      <td>130.0</td>\n",
       "      <td>84.0</td>\n",
       "      <td>23.10</td>\n",
       "      <td>85.0</td>\n",
       "      <td>85.0</td>\n",
       "      <td>0</td>\n",
       "    </tr>\n",
       "  </tbody>\n",
       "</table>\n",
       "</div>"
      ],
      "text/plain": [
       "   male  age  education  currentSmoker  cigsPerDay  BPMeds  prevalentStroke  \\\n",
       "0     1   39        4.0              0         0.0     0.0                0   \n",
       "1     0   46        2.0              0         0.0     0.0                0   \n",
       "2     1   48        1.0              1        20.0     0.0                0   \n",
       "3     0   61        3.0              1        30.0     0.0                0   \n",
       "4     0   46        3.0              1        23.0     0.0                0   \n",
       "\n",
       "   prevalentHyp  diabetes  totChol  sysBP  diaBP    BMI  heartRate  glucose  \\\n",
       "0             0         0    195.0  106.0   70.0  26.97       80.0     77.0   \n",
       "1             0         0    250.0  121.0   81.0  28.73       95.0     76.0   \n",
       "2             0         0    245.0  127.5   80.0  25.34       75.0     70.0   \n",
       "3             1         0    225.0  150.0   95.0  28.58       65.0    103.0   \n",
       "4             0         0    285.0  130.0   84.0  23.10       85.0     85.0   \n",
       "\n",
       "   TenYearCHD  \n",
       "0           0  \n",
       "1           0  \n",
       "2           0  \n",
       "3           1  \n",
       "4           0  "
      ]
     },
     "execution_count": 14,
     "metadata": {},
     "output_type": "execute_result"
    }
   ],
   "source": [
    "df2.head()"
   ]
  },
  {
   "cell_type": "code",
   "execution_count": 15,
   "id": "80df8db6",
   "metadata": {
    "execution": {
     "iopub.execute_input": "2023-02-19T16:53:04.706245Z",
     "iopub.status.busy": "2023-02-19T16:53:04.705862Z",
     "iopub.status.idle": "2023-02-19T16:53:04.721853Z",
     "shell.execute_reply": "2023-02-19T16:53:04.720997Z"
    },
    "id": "S1Ta-zu0jfPy",
    "outputId": "5cac464e-ec2d-4bf9-d53c-c9e96a56b10d",
    "papermill": {
     "duration": 0.038515,
     "end_time": "2023-02-19T16:53:04.723956",
     "exception": false,
     "start_time": "2023-02-19T16:53:04.685441",
     "status": "completed"
    },
    "tags": []
   },
   "outputs": [
    {
     "data": {
      "text/plain": [
       "['education', 'cigsPerDay', 'BPMeds', 'totChol', 'BMI', 'heartRate']"
      ]
     },
     "execution_count": 15,
     "metadata": {},
     "output_type": "execute_result"
    }
   ],
   "source": [
    "columnss = [var for var in df2.columns if df2[var].isnull().mean() < 0.05 and df2[var].isnull().mean() > 0]\n",
    "columnss"
   ]
  },
  {
   "cell_type": "code",
   "execution_count": 16,
   "id": "2ce9dcb3",
   "metadata": {
    "execution": {
     "iopub.execute_input": "2023-02-19T16:53:04.764495Z",
     "iopub.status.busy": "2023-02-19T16:53:04.764053Z",
     "iopub.status.idle": "2023-02-19T16:53:04.770066Z",
     "shell.execute_reply": "2023-02-19T16:53:04.769135Z"
    },
    "id": "aKeCBII-jpKp",
    "papermill": {
     "duration": 0.029024,
     "end_time": "2023-02-19T16:53:04.772107",
     "exception": false,
     "start_time": "2023-02-19T16:53:04.743083",
     "status": "completed"
    },
    "tags": []
   },
   "outputs": [],
   "source": [
    "new = df2[columnss].sample(5)"
   ]
  },
  {
   "cell_type": "code",
   "execution_count": 17,
   "id": "a71a266a",
   "metadata": {
    "execution": {
     "iopub.execute_input": "2023-02-19T16:53:04.813077Z",
     "iopub.status.busy": "2023-02-19T16:53:04.812386Z",
     "iopub.status.idle": "2023-02-19T16:53:04.834118Z",
     "shell.execute_reply": "2023-02-19T16:53:04.832376Z"
    },
    "id": "WpcHQzlajt5G",
    "outputId": "4eb86060-bc4f-483d-de5b-0f999b28d21e",
    "papermill": {
     "duration": 0.045742,
     "end_time": "2023-02-19T16:53:04.837408",
     "exception": false,
     "start_time": "2023-02-19T16:53:04.791666",
     "status": "completed"
    },
    "tags": []
   },
   "outputs": [
    {
     "name": "stdout",
     "output_type": "stream",
     "text": [
      "<class 'pandas.core.frame.DataFrame'>\n",
      "RangeIndex: 4240 entries, 0 to 4239\n",
      "Data columns (total 6 columns):\n",
      " #   Column      Non-Null Count  Dtype  \n",
      "---  ------      --------------  -----  \n",
      " 0   education   4135 non-null   float64\n",
      " 1   cigsPerDay  4211 non-null   float64\n",
      " 2   BPMeds      4187 non-null   float64\n",
      " 3   totChol     4190 non-null   float64\n",
      " 4   BMI         4221 non-null   float64\n",
      " 5   heartRate   4239 non-null   float64\n",
      "dtypes: float64(6)\n",
      "memory usage: 198.9 KB\n"
     ]
    }
   ],
   "source": [
    "df2[columnss].info()"
   ]
  },
  {
   "cell_type": "code",
   "execution_count": 18,
   "id": "35f6b122",
   "metadata": {
    "execution": {
     "iopub.execute_input": "2023-02-19T16:53:04.880936Z",
     "iopub.status.busy": "2023-02-19T16:53:04.880518Z",
     "iopub.status.idle": "2023-02-19T16:53:04.890832Z",
     "shell.execute_reply": "2023-02-19T16:53:04.889602Z"
    },
    "id": "r_PpuGOYkAWY",
    "outputId": "6087c6d3-c37c-44cb-e7d4-d74d10f0f375",
    "papermill": {
     "duration": 0.034608,
     "end_time": "2023-02-19T16:53:04.893088",
     "exception": false,
     "start_time": "2023-02-19T16:53:04.858480",
     "status": "completed"
    },
    "tags": []
   },
   "outputs": [
    {
     "data": {
      "text/plain": [
       "education     0.024764\n",
       "cigsPerDay    0.006840\n",
       "BPMeds        0.012500\n",
       "totChol       0.011792\n",
       "BMI           0.004481\n",
       "heartRate     0.000236\n",
       "dtype: float64"
      ]
     },
     "execution_count": 18,
     "metadata": {},
     "output_type": "execute_result"
    }
   ],
   "source": [
    "df2[columnss].isnull().mean()"
   ]
  },
  {
   "cell_type": "code",
   "execution_count": 19,
   "id": "1063516f",
   "metadata": {
    "execution": {
     "iopub.execute_input": "2023-02-19T16:53:04.934021Z",
     "iopub.status.busy": "2023-02-19T16:53:04.933076Z",
     "iopub.status.idle": "2023-02-19T16:53:04.940656Z",
     "shell.execute_reply": "2023-02-19T16:53:04.939839Z"
    },
    "id": "YMq7MMtfkMbL",
    "papermill": {
     "duration": 0.030031,
     "end_time": "2023-02-19T16:53:04.942530",
     "exception": false,
     "start_time": "2023-02-19T16:53:04.912499",
     "status": "completed"
    },
    "tags": []
   },
   "outputs": [],
   "source": [
    "x = df2[columnss].drop(columns=['BMI'])\n",
    "y = df2[columnss]['BMI']"
   ]
  },
  {
   "cell_type": "code",
   "execution_count": 20,
   "id": "7568364f",
   "metadata": {
    "execution": {
     "iopub.execute_input": "2023-02-19T16:53:04.983753Z",
     "iopub.status.busy": "2023-02-19T16:53:04.983032Z",
     "iopub.status.idle": "2023-02-19T16:53:04.989233Z",
     "shell.execute_reply": "2023-02-19T16:53:04.988452Z"
    },
    "id": "rAjF8PSzoz95",
    "papermill": {
     "duration": 0.029405,
     "end_time": "2023-02-19T16:53:04.991410",
     "exception": false,
     "start_time": "2023-02-19T16:53:04.962005",
     "status": "completed"
    },
    "tags": []
   },
   "outputs": [],
   "source": [
    "x_train,x_test,y_train,y_test = train_test_split(x,y,test_size=0.2,random_state=2)"
   ]
  },
  {
   "cell_type": "code",
   "execution_count": 21,
   "id": "08422c10",
   "metadata": {
    "execution": {
     "iopub.execute_input": "2023-02-19T16:53:05.034183Z",
     "iopub.status.busy": "2023-02-19T16:53:05.033491Z",
     "iopub.status.idle": "2023-02-19T16:53:05.039224Z",
     "shell.execute_reply": "2023-02-19T16:53:05.038443Z"
    },
    "id": "vjqNzwC2pH6C",
    "outputId": "7db2ca52-1eb9-40ae-e0ee-e85c01eb043a",
    "papermill": {
     "duration": 0.029913,
     "end_time": "2023-02-19T16:53:05.041594",
     "exception": false,
     "start_time": "2023-02-19T16:53:05.011681",
     "status": "completed"
    },
    "tags": []
   },
   "outputs": [
    {
     "data": {
      "text/plain": [
       "((3392, 5), (848, 5))"
      ]
     },
     "execution_count": 21,
     "metadata": {},
     "output_type": "execute_result"
    }
   ],
   "source": [
    "x_train.shape , x_test.shape"
   ]
  },
  {
   "cell_type": "code",
   "execution_count": 22,
   "id": "8d960929",
   "metadata": {
    "execution": {
     "iopub.execute_input": "2023-02-19T16:53:05.082636Z",
     "iopub.status.busy": "2023-02-19T16:53:05.081948Z",
     "iopub.status.idle": "2023-02-19T16:53:05.091122Z",
     "shell.execute_reply": "2023-02-19T16:53:05.090089Z"
    },
    "id": "0uwKomTXpMc5",
    "outputId": "180e9a94-0e5b-494f-a997-02c435c2d190",
    "papermill": {
     "duration": 0.031981,
     "end_time": "2023-02-19T16:53:05.093239",
     "exception": false,
     "start_time": "2023-02-19T16:53:05.061258",
     "status": "completed"
    },
    "tags": []
   },
   "outputs": [
    {
     "data": {
      "text/plain": [
       "education     0.025354\n",
       "cigsPerDay    0.006781\n",
       "BPMeds        0.012677\n",
       "totChol       0.012677\n",
       "heartRate     0.000000\n",
       "dtype: float64"
      ]
     },
     "execution_count": 22,
     "metadata": {},
     "output_type": "execute_result"
    }
   ],
   "source": [
    "x_train.isnull().mean()"
   ]
  },
  {
   "cell_type": "code",
   "execution_count": 23,
   "id": "ab8e2eb8",
   "metadata": {
    "execution": {
     "iopub.execute_input": "2023-02-19T16:53:05.135878Z",
     "iopub.status.busy": "2023-02-19T16:53:05.134936Z",
     "iopub.status.idle": "2023-02-19T16:53:05.143105Z",
     "shell.execute_reply": "2023-02-19T16:53:05.142039Z"
    },
    "id": "s6euk2tKpQ15",
    "papermill": {
     "duration": 0.031853,
     "end_time": "2023-02-19T16:53:05.145530",
     "exception": false,
     "start_time": "2023-02-19T16:53:05.113677",
     "status": "completed"
    },
    "tags": []
   },
   "outputs": [],
   "source": [
    "mean_education = x_train['education'].mean()\n",
    "median_education = x_train['education'].median()\n",
    "\n",
    "mean_cigsPerDay = x_train['cigsPerDay'].mean()\n",
    "median_cigsPerDay = x_train['cigsPerDay'].median()"
   ]
  },
  {
   "cell_type": "code",
   "execution_count": 24,
   "id": "097e57a2",
   "metadata": {
    "execution": {
     "iopub.execute_input": "2023-02-19T16:53:05.187505Z",
     "iopub.status.busy": "2023-02-19T16:53:05.186393Z",
     "iopub.status.idle": "2023-02-19T16:53:05.195795Z",
     "shell.execute_reply": "2023-02-19T16:53:05.194774Z"
    },
    "id": "ljMlFCdRps8A",
    "papermill": {
     "duration": 0.032814,
     "end_time": "2023-02-19T16:53:05.198228",
     "exception": false,
     "start_time": "2023-02-19T16:53:05.165414",
     "status": "completed"
    },
    "tags": []
   },
   "outputs": [],
   "source": [
    "x_train['education_mean']= x_train['education'].fillna(mean_education)\n",
    "x_train['education_median'] = x_train['education'].fillna(median_education)\n",
    "\n",
    "x_train['cigsPerDay_mean'] = x_train['cigsPerDay'].fillna(mean_cigsPerDay)\n",
    "x_train['cigsPerDay_median'] = x_train['cigsPerDay'].fillna(median_cigsPerDay)"
   ]
  },
  {
   "cell_type": "code",
   "execution_count": 25,
   "id": "107cd001",
   "metadata": {
    "execution": {
     "iopub.execute_input": "2023-02-19T16:53:05.240150Z",
     "iopub.status.busy": "2023-02-19T16:53:05.239257Z",
     "iopub.status.idle": "2023-02-19T16:53:05.259551Z",
     "shell.execute_reply": "2023-02-19T16:53:05.258349Z"
    },
    "id": "cgN41ww9qcst",
    "outputId": "bf5a73df-65c4-434e-df30-2db9725ddd3c",
    "papermill": {
     "duration": 0.044292,
     "end_time": "2023-02-19T16:53:05.262434",
     "exception": false,
     "start_time": "2023-02-19T16:53:05.218142",
     "status": "completed"
    },
    "tags": []
   },
   "outputs": [
    {
     "data": {
      "text/html": [
       "<div>\n",
       "<style scoped>\n",
       "    .dataframe tbody tr th:only-of-type {\n",
       "        vertical-align: middle;\n",
       "    }\n",
       "\n",
       "    .dataframe tbody tr th {\n",
       "        vertical-align: top;\n",
       "    }\n",
       "\n",
       "    .dataframe thead th {\n",
       "        text-align: right;\n",
       "    }\n",
       "</style>\n",
       "<table border=\"1\" class=\"dataframe\">\n",
       "  <thead>\n",
       "    <tr style=\"text-align: right;\">\n",
       "      <th></th>\n",
       "      <th>education</th>\n",
       "      <th>cigsPerDay</th>\n",
       "      <th>BPMeds</th>\n",
       "      <th>totChol</th>\n",
       "      <th>heartRate</th>\n",
       "      <th>education_mean</th>\n",
       "      <th>education_median</th>\n",
       "      <th>cigsPerDay_mean</th>\n",
       "      <th>cigsPerDay_median</th>\n",
       "    </tr>\n",
       "  </thead>\n",
       "  <tbody>\n",
       "    <tr>\n",
       "      <th>209</th>\n",
       "      <td>2.0</td>\n",
       "      <td>30.0</td>\n",
       "      <td>0.0</td>\n",
       "      <td>185.0</td>\n",
       "      <td>96.0</td>\n",
       "      <td>2.000000</td>\n",
       "      <td>2.0</td>\n",
       "      <td>30.0</td>\n",
       "      <td>30.0</td>\n",
       "    </tr>\n",
       "    <tr>\n",
       "      <th>289</th>\n",
       "      <td>4.0</td>\n",
       "      <td>30.0</td>\n",
       "      <td>0.0</td>\n",
       "      <td>155.0</td>\n",
       "      <td>50.0</td>\n",
       "      <td>4.000000</td>\n",
       "      <td>4.0</td>\n",
       "      <td>30.0</td>\n",
       "      <td>30.0</td>\n",
       "    </tr>\n",
       "    <tr>\n",
       "      <th>2518</th>\n",
       "      <td>NaN</td>\n",
       "      <td>0.0</td>\n",
       "      <td>0.0</td>\n",
       "      <td>246.0</td>\n",
       "      <td>69.0</td>\n",
       "      <td>1.987901</td>\n",
       "      <td>2.0</td>\n",
       "      <td>0.0</td>\n",
       "      <td>0.0</td>\n",
       "    </tr>\n",
       "    <tr>\n",
       "      <th>446</th>\n",
       "      <td>1.0</td>\n",
       "      <td>0.0</td>\n",
       "      <td>0.0</td>\n",
       "      <td>182.0</td>\n",
       "      <td>65.0</td>\n",
       "      <td>1.000000</td>\n",
       "      <td>1.0</td>\n",
       "      <td>0.0</td>\n",
       "      <td>0.0</td>\n",
       "    </tr>\n",
       "    <tr>\n",
       "      <th>154</th>\n",
       "      <td>3.0</td>\n",
       "      <td>3.0</td>\n",
       "      <td>1.0</td>\n",
       "      <td>NaN</td>\n",
       "      <td>98.0</td>\n",
       "      <td>3.000000</td>\n",
       "      <td>3.0</td>\n",
       "      <td>3.0</td>\n",
       "      <td>3.0</td>\n",
       "    </tr>\n",
       "  </tbody>\n",
       "</table>\n",
       "</div>"
      ],
      "text/plain": [
       "      education  cigsPerDay  BPMeds  totChol  heartRate  education_mean  \\\n",
       "209         2.0        30.0     0.0    185.0       96.0        2.000000   \n",
       "289         4.0        30.0     0.0    155.0       50.0        4.000000   \n",
       "2518        NaN         0.0     0.0    246.0       69.0        1.987901   \n",
       "446         1.0         0.0     0.0    182.0       65.0        1.000000   \n",
       "154         3.0         3.0     1.0      NaN       98.0        3.000000   \n",
       "\n",
       "      education_median  cigsPerDay_mean  cigsPerDay_median  \n",
       "209                2.0             30.0               30.0  \n",
       "289                4.0             30.0               30.0  \n",
       "2518               2.0              0.0                0.0  \n",
       "446                1.0              0.0                0.0  \n",
       "154                3.0              3.0                3.0  "
      ]
     },
     "execution_count": 25,
     "metadata": {},
     "output_type": "execute_result"
    }
   ],
   "source": [
    "x_train.sample(5)"
   ]
  },
  {
   "cell_type": "markdown",
   "id": "8615d5fc",
   "metadata": {
    "id": "NdN5LlV6rLvq",
    "papermill": {
     "duration": 0.020376,
     "end_time": "2023-02-19T16:53:05.303110",
     "exception": false,
     "start_time": "2023-02-19T16:53:05.282734",
     "status": "completed"
    },
    "tags": []
   },
   "source": [
    "Checking for variance after filling values"
   ]
  },
  {
   "cell_type": "code",
   "execution_count": 26,
   "id": "f34b09e0",
   "metadata": {
    "execution": {
     "iopub.execute_input": "2023-02-19T16:53:05.346940Z",
     "iopub.status.busy": "2023-02-19T16:53:05.346280Z",
     "iopub.status.idle": "2023-02-19T16:53:05.357539Z",
     "shell.execute_reply": "2023-02-19T16:53:05.356032Z"
    },
    "id": "i_H06tRRq4A9",
    "outputId": "d1ba3ee8-7188-43d8-9a49-edb42e04531e",
    "papermill": {
     "duration": 0.036416,
     "end_time": "2023-02-19T16:53:05.360611",
     "exception": false,
     "start_time": "2023-02-19T16:53:05.324195",
     "status": "completed"
    },
    "tags": []
   },
   "outputs": [
    {
     "name": "stdout",
     "output_type": "stream",
     "text": [
      "original education variance:  1.041305909669578\n",
      "education variance after mean:  1.0148970897841212\n",
      "education variance after median:  1.0149007083122359\n",
      "original CigsPerDay variance:  139.88760805697325\n",
      "CigsPerDay variance after mean:  139.88760805697325\n",
      "CigsPerDay variance after median:  139.88760805697325\n"
     ]
    }
   ],
   "source": [
    "print('original education variance: ',x_train['education'].var())\n",
    "print('education variance after mean: ',x_train['education_mean'].var())\n",
    "print('education variance after median: ',x_train['education_median'].var())\n",
    "\n",
    "print('original CigsPerDay variance: ',x_train['cigsPerDay'].var())\n",
    "print('CigsPerDay variance after mean: ',x_train['cigsPerDay'].var())\n",
    "print('CigsPerDay variance after median: ',x_train['cigsPerDay'].var())"
   ]
  },
  {
   "cell_type": "markdown",
   "id": "e3478926",
   "metadata": {
    "id": "frNmJXWasYLn",
    "papermill": {
     "duration": 0.020906,
     "end_time": "2023-02-19T16:53:05.403996",
     "exception": false,
     "start_time": "2023-02-19T16:53:05.383090",
     "status": "completed"
    },
    "tags": []
   },
   "source": [
    "**Inference:** We see that after using Mean/Median Simple Imputation on Numerical data, the variance of the data shrinks."
   ]
  },
  {
   "cell_type": "code",
   "execution_count": 27,
   "id": "40242ab4",
   "metadata": {
    "execution": {
     "iopub.execute_input": "2023-02-19T16:53:05.448204Z",
     "iopub.status.busy": "2023-02-19T16:53:05.447800Z",
     "iopub.status.idle": "2023-02-19T16:53:05.911050Z",
     "shell.execute_reply": "2023-02-19T16:53:05.910254Z"
    },
    "id": "l-O34N_Sq88o",
    "outputId": "5cfbb3e6-bd3f-4754-9d83-993caa64caf7",
    "papermill": {
     "duration": 0.490155,
     "end_time": "2023-02-19T16:53:05.915090",
     "exception": false,
     "start_time": "2023-02-19T16:53:05.424935",
     "status": "completed"
    },
    "tags": []
   },
   "outputs": [
    {
     "data": {
      "text/plain": [
       "<matplotlib.legend.Legend at 0x7fbe8d76ae10>"
      ]
     },
     "execution_count": 27,
     "metadata": {},
     "output_type": "execute_result"
    },
    {
     "data": {
      "image/png": "[encoded data removed]",
      "text/plain": [
       "<Figure size 640x480 with 1 Axes>"
      ]
     },
     "metadata": {},
     "output_type": "display_data"
    }
   ],
   "source": [
    "#Education\n",
    "\n",
    "fig = plt.figure()\n",
    "ax = fig.add_subplot(111)\n",
    "\n",
    "#original\n",
    "x_train['education'].plot(kind = 'kde', ax=ax)\n",
    "\n",
    "#mean\n",
    "x_train['education_mean'].plot(kind = 'kde', ax=ax, color = 'green' )\n",
    "\n",
    "#median\n",
    "x_train['education_median'].plot(kind = 'kde', ax=ax, color = 'red' )\n",
    "\n",
    "#add legends\n",
    "lines , labels = ax.get_legend_handles_labels()\n",
    "ax.legend(lines , labels , loc = 'best')\n",
    "\n",
    "                        "
   ]
  },
  {
   "cell_type": "code",
   "execution_count": 28,
   "id": "d13710b4",
   "metadata": {
    "execution": {
     "iopub.execute_input": "2023-02-19T16:53:05.970747Z",
     "iopub.status.busy": "2023-02-19T16:53:05.969397Z",
     "iopub.status.idle": "2023-02-19T16:53:06.454119Z",
     "shell.execute_reply": "2023-02-19T16:53:06.452888Z"
    },
    "id": "g7LLybR4q9Au",
    "outputId": "ea925373-bb26-43ae-ae3f-7261c1d27f70",
    "papermill": {
     "duration": 0.517025,
     "end_time": "2023-02-19T16:53:06.457423",
     "exception": false,
     "start_time": "2023-02-19T16:53:05.940398",
     "status": "completed"
    },
    "tags": []
   },
   "outputs": [
    {
     "data": {
      "text/plain": [
       "<matplotlib.legend.Legend at 0x7fbe8d5d4e90>"
      ]
     },
     "execution_count": 28,
     "metadata": {},
     "output_type": "execute_result"
    },
    {
     "data": {
      "image/png": "[encoded data removed]",
      "text/plain": [
       "<Figure size 640x480 with 1 Axes>"
      ]
     },
     "metadata": {},
     "output_type": "display_data"
    }
   ],
   "source": [
    "#Cigeretes per day\n",
    "\n",
    "fig = plt.figure()\n",
    "ax = fig.add_subplot(111)\n",
    "\n",
    "#original\n",
    "x_train['cigsPerDay'].plot(kind = 'kde', ax=ax)\n",
    "\n",
    "#mean\n",
    "x_train['cigsPerDay_mean'].plot(kind = 'kde', ax=ax, color = 'green' )\n",
    "\n",
    "#median\n",
    "x_train['cigsPerDay_median'].plot(kind = 'kde', ax=ax, color = 'red' )\n",
    "\n",
    "#add legends\n",
    "lines , labels = ax.get_legend_handles_labels()\n",
    "ax.legend(lines , labels , loc = 'best')"
   ]
  },
  {
   "cell_type": "code",
   "execution_count": 29,
   "id": "8f90dc6f",
   "metadata": {
    "execution": {
     "iopub.execute_input": "2023-02-19T16:53:06.507592Z",
     "iopub.status.busy": "2023-02-19T16:53:06.507152Z",
     "iopub.status.idle": "2023-02-19T16:53:06.530472Z",
     "shell.execute_reply": "2023-02-19T16:53:06.529186Z"
    },
    "id": "7ktm_BtFyEAd",
    "outputId": "b53df594-8426-451f-aa33-68efc9a5cd0d",
    "papermill": {
     "duration": 0.053381,
     "end_time": "2023-02-19T16:53:06.532997",
     "exception": false,
     "start_time": "2023-02-19T16:53:06.479616",
     "status": "completed"
    },
    "tags": []
   },
   "outputs": [
    {
     "data": {
      "text/html": [
       "<div>\n",
       "<style scoped>\n",
       "    .dataframe tbody tr th:only-of-type {\n",
       "        vertical-align: middle;\n",
       "    }\n",
       "\n",
       "    .dataframe tbody tr th {\n",
       "        vertical-align: top;\n",
       "    }\n",
       "\n",
       "    .dataframe thead th {\n",
       "        text-align: right;\n",
       "    }\n",
       "</style>\n",
       "<table border=\"1\" class=\"dataframe\">\n",
       "  <thead>\n",
       "    <tr style=\"text-align: right;\">\n",
       "      <th></th>\n",
       "      <th>education</th>\n",
       "      <th>cigsPerDay</th>\n",
       "      <th>BPMeds</th>\n",
       "      <th>totChol</th>\n",
       "      <th>heartRate</th>\n",
       "      <th>education_mean</th>\n",
       "      <th>education_median</th>\n",
       "      <th>cigsPerDay_mean</th>\n",
       "      <th>cigsPerDay_median</th>\n",
       "    </tr>\n",
       "  </thead>\n",
       "  <tbody>\n",
       "    <tr>\n",
       "      <th>education</th>\n",
       "      <td>1.041306</td>\n",
       "      <td>0.149084</td>\n",
       "      <td>0.000950</td>\n",
       "      <td>-1.282205</td>\n",
       "      <td>-0.819853</td>\n",
       "      <td>1.041306</td>\n",
       "      <td>1.041306</td>\n",
       "      <td>0.148080</td>\n",
       "      <td>0.144686</td>\n",
       "    </tr>\n",
       "    <tr>\n",
       "      <th>cigsPerDay</th>\n",
       "      <td>0.149084</td>\n",
       "      <td>139.887608</td>\n",
       "      <td>-0.082887</td>\n",
       "      <td>-16.643974</td>\n",
       "      <td>10.999415</td>\n",
       "      <td>0.145310</td>\n",
       "      <td>0.144951</td>\n",
       "      <td>139.887608</td>\n",
       "      <td>139.887608</td>\n",
       "    </tr>\n",
       "    <tr>\n",
       "      <th>BPMeds</th>\n",
       "      <td>0.000950</td>\n",
       "      <td>-0.082887</td>\n",
       "      <td>0.028977</td>\n",
       "      <td>0.564144</td>\n",
       "      <td>0.032353</td>\n",
       "      <td>0.000926</td>\n",
       "      <td>0.000927</td>\n",
       "      <td>-0.082318</td>\n",
       "      <td>-0.080501</td>\n",
       "    </tr>\n",
       "    <tr>\n",
       "      <th>totChol</th>\n",
       "      <td>-1.282205</td>\n",
       "      <td>-16.643974</td>\n",
       "      <td>0.564144</td>\n",
       "      <td>1928.469020</td>\n",
       "      <td>49.237339</td>\n",
       "      <td>-1.249711</td>\n",
       "      <td>-1.249353</td>\n",
       "      <td>-16.528433</td>\n",
       "      <td>-16.921240</td>\n",
       "    </tr>\n",
       "    <tr>\n",
       "      <th>heartRate</th>\n",
       "      <td>-0.819853</td>\n",
       "      <td>10.999415</td>\n",
       "      <td>0.032353</td>\n",
       "      <td>49.237339</td>\n",
       "      <td>146.287663</td>\n",
       "      <td>-0.799060</td>\n",
       "      <td>-0.799656</td>\n",
       "      <td>10.924810</td>\n",
       "      <td>10.708862</td>\n",
       "    </tr>\n",
       "    <tr>\n",
       "      <th>education_mean</th>\n",
       "      <td>1.041306</td>\n",
       "      <td>0.145310</td>\n",
       "      <td>0.000926</td>\n",
       "      <td>-1.249711</td>\n",
       "      <td>-0.799060</td>\n",
       "      <td>1.014897</td>\n",
       "      <td>1.014897</td>\n",
       "      <td>0.144325</td>\n",
       "      <td>0.141017</td>\n",
       "    </tr>\n",
       "    <tr>\n",
       "      <th>education_median</th>\n",
       "      <td>1.041306</td>\n",
       "      <td>0.144951</td>\n",
       "      <td>0.000927</td>\n",
       "      <td>-1.249353</td>\n",
       "      <td>-0.799656</td>\n",
       "      <td>1.014897</td>\n",
       "      <td>1.014901</td>\n",
       "      <td>0.143968</td>\n",
       "      <td>0.140647</td>\n",
       "    </tr>\n",
       "    <tr>\n",
       "      <th>cigsPerDay_mean</th>\n",
       "      <td>0.148080</td>\n",
       "      <td>139.887608</td>\n",
       "      <td>-0.082318</td>\n",
       "      <td>-16.528433</td>\n",
       "      <td>10.924810</td>\n",
       "      <td>0.144325</td>\n",
       "      <td>0.143968</td>\n",
       "      <td>138.938798</td>\n",
       "      <td>138.938798</td>\n",
       "    </tr>\n",
       "    <tr>\n",
       "      <th>cigsPerDay_median</th>\n",
       "      <td>0.144686</td>\n",
       "      <td>139.887608</td>\n",
       "      <td>-0.080501</td>\n",
       "      <td>-16.921240</td>\n",
       "      <td>10.708862</td>\n",
       "      <td>0.141017</td>\n",
       "      <td>0.140647</td>\n",
       "      <td>138.938798</td>\n",
       "      <td>139.467435</td>\n",
       "    </tr>\n",
       "  </tbody>\n",
       "</table>\n",
       "</div>"
      ],
      "text/plain": [
       "                   education  cigsPerDay    BPMeds      totChol   heartRate  \\\n",
       "education           1.041306    0.149084  0.000950    -1.282205   -0.819853   \n",
       "cigsPerDay          0.149084  139.887608 -0.082887   -16.643974   10.999415   \n",
       "BPMeds              0.000950   -0.082887  0.028977     0.564144    0.032353   \n",
       "totChol            -1.282205  -16.643974  0.564144  1928.469020   49.237339   \n",
       "heartRate          -0.819853   10.999415  0.032353    49.237339  146.287663   \n",
       "education_mean      1.041306    0.145310  0.000926    -1.249711   -0.799060   \n",
       "education_median    1.041306    0.144951  0.000927    -1.249353   -0.799656   \n",
       "cigsPerDay_mean     0.148080  139.887608 -0.082318   -16.528433   10.924810   \n",
       "cigsPerDay_median   0.144686  139.887608 -0.080501   -16.921240   10.708862   \n",
       "\n",
       "                   education_mean  education_median  cigsPerDay_mean  \\\n",
       "education                1.041306          1.041306         0.148080   \n",
       "cigsPerDay               0.145310          0.144951       139.887608   \n",
       "BPMeds                   0.000926          0.000927        -0.082318   \n",
       "totChol                 -1.249711         -1.249353       -16.528433   \n",
       "heartRate               -0.799060         -0.799656        10.924810   \n",
       "education_mean           1.014897          1.014897         0.144325   \n",
       "education_median         1.014897          1.014901         0.143968   \n",
       "cigsPerDay_mean          0.144325          0.143968       138.938798   \n",
       "cigsPerDay_median        0.141017          0.140647       138.938798   \n",
       "\n",
       "                   cigsPerDay_median  \n",
       "education                   0.144686  \n",
       "cigsPerDay                139.887608  \n",
       "BPMeds                     -0.080501  \n",
       "totChol                   -16.921240  \n",
       "heartRate                  10.708862  \n",
       "education_mean              0.141017  \n",
       "education_median            0.140647  \n",
       "cigsPerDay_mean           138.938798  \n",
       "cigsPerDay_median         139.467435  "
      ]
     },
     "execution_count": 29,
     "metadata": {},
     "output_type": "execute_result"
    }
   ],
   "source": [
    "x_train.cov()          #for covariance"
   ]
  },
  {
   "cell_type": "code",
   "execution_count": 30,
   "id": "5d3f51f9",
   "metadata": {
    "execution": {
     "iopub.execute_input": "2023-02-19T16:53:06.581264Z",
     "iopub.status.busy": "2023-02-19T16:53:06.579984Z",
     "iopub.status.idle": "2023-02-19T16:53:06.600834Z",
     "shell.execute_reply": "2023-02-19T16:53:06.599590Z"
    },
    "id": "QSYcKHWNySQO",
    "outputId": "f81a1a5d-274c-405c-ecd4-6e6118b78b0b",
    "papermill": {
     "duration": 0.048523,
     "end_time": "2023-02-19T16:53:06.604452",
     "exception": false,
     "start_time": "2023-02-19T16:53:06.555929",
     "status": "completed"
    },
    "tags": []
   },
   "outputs": [
    {
     "data": {
      "text/html": [
       "<div>\n",
       "<style scoped>\n",
       "    .dataframe tbody tr th:only-of-type {\n",
       "        vertical-align: middle;\n",
       "    }\n",
       "\n",
       "    .dataframe tbody tr th {\n",
       "        vertical-align: top;\n",
       "    }\n",
       "\n",
       "    .dataframe thead th {\n",
       "        text-align: right;\n",
       "    }\n",
       "</style>\n",
       "<table border=\"1\" class=\"dataframe\">\n",
       "  <thead>\n",
       "    <tr style=\"text-align: right;\">\n",
       "      <th></th>\n",
       "      <th>education</th>\n",
       "      <th>cigsPerDay</th>\n",
       "      <th>BPMeds</th>\n",
       "      <th>totChol</th>\n",
       "      <th>heartRate</th>\n",
       "      <th>education_mean</th>\n",
       "      <th>education_median</th>\n",
       "      <th>cigsPerDay_mean</th>\n",
       "      <th>cigsPerDay_median</th>\n",
       "    </tr>\n",
       "  </thead>\n",
       "  <tbody>\n",
       "    <tr>\n",
       "      <th>education</th>\n",
       "      <td>1.000000</td>\n",
       "      <td>0.012349</td>\n",
       "      <td>0.005483</td>\n",
       "      <td>-0.028934</td>\n",
       "      <td>-0.066289</td>\n",
       "      <td>1.000000</td>\n",
       "      <td>1.000000</td>\n",
       "      <td>0.012310</td>\n",
       "      <td>0.012005</td>\n",
       "    </tr>\n",
       "    <tr>\n",
       "      <th>cigsPerDay</th>\n",
       "      <td>0.012349</td>\n",
       "      <td>1.000000</td>\n",
       "      <td>-0.041079</td>\n",
       "      <td>-0.032089</td>\n",
       "      <td>0.076900</td>\n",
       "      <td>0.012191</td>\n",
       "      <td>0.012161</td>\n",
       "      <td>1.000000</td>\n",
       "      <td>1.000000</td>\n",
       "    </tr>\n",
       "    <tr>\n",
       "      <th>BPMeds</th>\n",
       "      <td>0.005483</td>\n",
       "      <td>-0.041079</td>\n",
       "      <td>1.000000</td>\n",
       "      <td>0.076124</td>\n",
       "      <td>0.015678</td>\n",
       "      <td>0.005400</td>\n",
       "      <td>0.005409</td>\n",
       "      <td>-0.041075</td>\n",
       "      <td>-0.040091</td>\n",
       "    </tr>\n",
       "    <tr>\n",
       "      <th>totChol</th>\n",
       "      <td>-0.028934</td>\n",
       "      <td>-0.032089</td>\n",
       "      <td>0.076124</td>\n",
       "      <td>1.000000</td>\n",
       "      <td>0.092575</td>\n",
       "      <td>-0.028204</td>\n",
       "      <td>-0.028195</td>\n",
       "      <td>-0.031958</td>\n",
       "      <td>-0.032655</td>\n",
       "    </tr>\n",
       "    <tr>\n",
       "      <th>heartRate</th>\n",
       "      <td>-0.066289</td>\n",
       "      <td>0.076900</td>\n",
       "      <td>0.015678</td>\n",
       "      <td>0.092575</td>\n",
       "      <td>1.000000</td>\n",
       "      <td>-0.065579</td>\n",
       "      <td>-0.065628</td>\n",
       "      <td>0.076630</td>\n",
       "      <td>0.074973</td>\n",
       "    </tr>\n",
       "    <tr>\n",
       "      <th>education_mean</th>\n",
       "      <td>1.000000</td>\n",
       "      <td>0.012191</td>\n",
       "      <td>0.005400</td>\n",
       "      <td>-0.028204</td>\n",
       "      <td>-0.065579</td>\n",
       "      <td>1.000000</td>\n",
       "      <td>0.999998</td>\n",
       "      <td>0.012154</td>\n",
       "      <td>0.011853</td>\n",
       "    </tr>\n",
       "    <tr>\n",
       "      <th>education_median</th>\n",
       "      <td>1.000000</td>\n",
       "      <td>0.012161</td>\n",
       "      <td>0.005409</td>\n",
       "      <td>-0.028195</td>\n",
       "      <td>-0.065628</td>\n",
       "      <td>0.999998</td>\n",
       "      <td>1.000000</td>\n",
       "      <td>0.012124</td>\n",
       "      <td>0.011822</td>\n",
       "    </tr>\n",
       "    <tr>\n",
       "      <th>cigsPerDay_mean</th>\n",
       "      <td>0.012310</td>\n",
       "      <td>1.000000</td>\n",
       "      <td>-0.041075</td>\n",
       "      <td>-0.031958</td>\n",
       "      <td>0.076630</td>\n",
       "      <td>0.012154</td>\n",
       "      <td>0.012124</td>\n",
       "      <td>1.000000</td>\n",
       "      <td>0.998103</td>\n",
       "    </tr>\n",
       "    <tr>\n",
       "      <th>cigsPerDay_median</th>\n",
       "      <td>0.012005</td>\n",
       "      <td>1.000000</td>\n",
       "      <td>-0.040091</td>\n",
       "      <td>-0.032655</td>\n",
       "      <td>0.074973</td>\n",
       "      <td>0.011853</td>\n",
       "      <td>0.011822</td>\n",
       "      <td>0.998103</td>\n",
       "      <td>1.000000</td>\n",
       "    </tr>\n",
       "  </tbody>\n",
       "</table>\n",
       "</div>"
      ],
      "text/plain": [
       "                   education  cigsPerDay    BPMeds   totChol  heartRate  \\\n",
       "education           1.000000    0.012349  0.005483 -0.028934  -0.066289   \n",
       "cigsPerDay          0.012349    1.000000 -0.041079 -0.032089   0.076900   \n",
       "BPMeds              0.005483   -0.041079  1.000000  0.076124   0.015678   \n",
       "totChol            -0.028934   -0.032089  0.076124  1.000000   0.092575   \n",
       "heartRate          -0.066289    0.076900  0.015678  0.092575   1.000000   \n",
       "education_mean      1.000000    0.012191  0.005400 -0.028204  -0.065579   \n",
       "education_median    1.000000    0.012161  0.005409 -0.028195  -0.065628   \n",
       "cigsPerDay_mean     0.012310    1.000000 -0.041075 -0.031958   0.076630   \n",
       "cigsPerDay_median   0.012005    1.000000 -0.040091 -0.032655   0.074973   \n",
       "\n",
       "                   education_mean  education_median  cigsPerDay_mean  \\\n",
       "education                1.000000          1.000000         0.012310   \n",
       "cigsPerDay               0.012191          0.012161         1.000000   \n",
       "BPMeds                   0.005400          0.005409        -0.041075   \n",
       "totChol                 -0.028204         -0.028195        -0.031958   \n",
       "heartRate               -0.065579         -0.065628         0.076630   \n",
       "education_mean           1.000000          0.999998         0.012154   \n",
       "education_median         0.999998          1.000000         0.012124   \n",
       "cigsPerDay_mean          0.012154          0.012124         1.000000   \n",
       "cigsPerDay_median        0.011853          0.011822         0.998103   \n",
       "\n",
       "                   cigsPerDay_median  \n",
       "education                   0.012005  \n",
       "cigsPerDay                  1.000000  \n",
       "BPMeds                     -0.040091  \n",
       "totChol                    -0.032655  \n",
       "heartRate                   0.074973  \n",
       "education_mean              0.011853  \n",
       "education_median            0.011822  \n",
       "cigsPerDay_mean             0.998103  \n",
       "cigsPerDay_median           1.000000  "
      ]
     },
     "execution_count": 30,
     "metadata": {},
     "output_type": "execute_result"
    }
   ],
   "source": [
    "x_train.corr()       #for correlation"
   ]
  },
  {
   "cell_type": "markdown",
   "id": "7653ef81",
   "metadata": {
    "id": "-igzPgilzDSh",
    "papermill": {
     "duration": 0.02197,
     "end_time": "2023-02-19T16:53:06.649301",
     "exception": false,
     "start_time": "2023-02-19T16:53:06.627331",
     "status": "completed"
    },
    "tags": []
   },
   "source": [
    "# 3. Filling Missing Values: Simple Imputer: Categorical Data"
   ]
  },
  {
   "cell_type": "markdown",
   "id": "72b8145c",
   "metadata": {
    "id": "HDLt5lGiz9v9",
    "papermill": {
     "duration": 0.021618,
     "end_time": "2023-02-19T16:53:06.693200",
     "exception": false,
     "start_time": "2023-02-19T16:53:06.671582",
     "status": "completed"
    },
    "tags": []
   },
   "source": [
    "Here, there are basically 2 ways of filling missing values:\n",
    "\n",
    "\n",
    "1.   filling the most frequent value\n",
    "2.   creating a separate column as missing\n",
    "\n"
   ]
  },
  {
   "cell_type": "markdown",
   "id": "d55ef35c",
   "metadata": {
    "id": "n8Ibwb950Wu3",
    "papermill": {
     "duration": 0.021805,
     "end_time": "2023-02-19T16:53:06.737641",
     "exception": false,
     "start_time": "2023-02-19T16:53:06.715836",
     "status": "completed"
    },
    "tags": []
   },
   "source": [
    "So if the data is Missing Completely At Random(MCAR) and the missing data is less than 5% then we can either use i) **Mean/Median method** or ii) Mode method"
   ]
  },
  {
   "cell_type": "markdown",
   "id": "e9b9e650",
   "metadata": {
    "id": "wHsmk2uv0zNH",
    "papermill": {
     "duration": 0.02253,
     "end_time": "2023-02-19T16:53:06.782270",
     "exception": false,
     "start_time": "2023-02-19T16:53:06.759740",
     "status": "completed"
    },
    "tags": []
   },
   "source": [
    "**When to use Mode and when to make a missing column?**\n",
    "\n",
    "Answer to this question is, when the missing data is less than 5% we use Mode to fill the missing values and the missing data is more than 10% we need to make a separate column for missing data."
   ]
  },
  {
   "cell_type": "markdown",
   "id": "14623822",
   "metadata": {
    "id": "imk_R0PM0zhW",
    "papermill": {
     "duration": 0.0219,
     "end_time": "2023-02-19T16:53:06.826496",
     "exception": false,
     "start_time": "2023-02-19T16:53:06.804596",
     "status": "completed"
    },
    "tags": []
   },
   "source": [
    "# 4. Random Value Imputation"
   ]
  },
  {
   "cell_type": "markdown",
   "id": "c0a7712b",
   "metadata": {
    "id": "a15YY0Py2S73",
    "papermill": {
     "duration": 0.021787,
     "end_time": "2023-02-19T16:53:06.871853",
     "exception": false,
     "start_time": "2023-02-19T16:53:06.850066",
     "status": "completed"
    },
    "tags": []
   },
   "source": [
    "In this type of imputation, we randomly select the values from the missing data and fill it in the missing values"
   ]
  },
  {
   "cell_type": "markdown",
   "id": "9d3eae15",
   "metadata": {
    "id": "7igZ2lpr2kEb",
    "papermill": {
     "duration": 0.021678,
     "end_time": "2023-02-19T16:53:06.915789",
     "exception": false,
     "start_time": "2023-02-19T16:53:06.894111",
     "status": "completed"
    },
    "tags": []
   },
   "source": [
    "**Benifits:**\n",
    "\n",
    "1.   Simple to use\n",
    "2.   The distribution of the data remains the same\n",
    "3.   preserves the variance of the variable.\n",
    "\n"
   ]
  },
  {
   "cell_type": "markdown",
   "id": "ef8168af",
   "metadata": {
    "id": "iFxbntCH3PuP",
    "papermill": {
     "duration": 0.021684,
     "end_time": "2023-02-19T16:53:06.959712",
     "exception": false,
     "start_time": "2023-02-19T16:53:06.938028",
     "status": "completed"
    },
    "tags": []
   },
   "source": [
    "**Disadvantages:**\n",
    "\n",
    "1.   It disturbes the covariance of the data\n",
    "2.   Heavy on memory\n",
    "3.   Does not works the best with Decision Tree based algorithms because of inducing randomness in the data.\n",
    "\n",
    "\n",
    "\n",
    "\n"
   ]
  },
  {
   "cell_type": "markdown",
   "id": "fb8446ec",
   "metadata": {
    "id": "bLTDJvN_4iMY",
    "papermill": {
     "duration": 0.021523,
     "end_time": "2023-02-19T16:53:07.003355",
     "exception": false,
     "start_time": "2023-02-19T16:53:06.981832",
     "status": "completed"
    },
    "tags": []
   },
   "source": [
    "# 5.Filling Missing Values: Multivariate Imputation : KNN Imputer"
   ]
  },
  {
   "cell_type": "markdown",
   "id": "55b2b389",
   "metadata": {
    "id": "vTI_8ggP4ikn",
    "papermill": {
     "duration": 0.02205,
     "end_time": "2023-02-19T16:53:07.047423",
     "exception": false,
     "start_time": "2023-02-19T16:53:07.025373",
     "status": "completed"
    },
    "tags": []
   },
   "source": [
    "In Multivariate Imputation, we use other rows and columns to fill the missing values in a column. So, there are two approaches for multivariate imputation 1) **KNN imputer** and 2) **Iterative imputer**"
   ]
  },
  {
   "cell_type": "markdown",
   "id": "925d4661",
   "metadata": {
    "id": "OlSpkdv04i24",
    "papermill": {
     "duration": 0.021511,
     "end_time": "2023-02-19T16:53:07.090727",
     "exception": false,
     "start_time": "2023-02-19T16:53:07.069216",
     "status": "completed"
    },
    "tags": []
   },
   "source": [
    "**KNN imputer**: It works on the algorithm called K Nearest Neighbour.\n",
    "\n",
    "The whole idea is you would fill in the missing value from the row which is the most similar to it."
   ]
  },
  {
   "cell_type": "markdown",
   "id": "b8e76cf3",
   "metadata": {
    "id": "FeXaZqsSTF3s",
    "papermill": {
     "duration": 0.021858,
     "end_time": "2023-02-19T16:53:07.134541",
     "exception": false,
     "start_time": "2023-02-19T16:53:07.112683",
     "status": "completed"
    },
    "tags": []
   },
   "source": [
    "**Steps of working:**\n",
    "\n",
    "\n",
    "1.   Find the K Nearest Neighbour - We take the sum of all the neighbours and divide it by the number of neighbours.\n",
    "2.   Find the Value - take value from every neighbour and calculate the mean from it.\n",
    "\n"
   ]
  },
  {
   "cell_type": "markdown",
   "id": "8c6e691d",
   "metadata": {
    "id": "iVVkZnTeT2MX",
    "papermill": {
     "duration": 0.021622,
     "end_time": "2023-02-19T16:53:07.178461",
     "exception": false,
     "start_time": "2023-02-19T16:53:07.156839",
     "status": "completed"
    },
    "tags": []
   },
   "source": [
    "**Advantages:**\n",
    "\n",
    "1.   This is a more accurate method.\n",
    "2.   Its very good to work with for small and medium sized datasets.\n",
    "\n",
    "**Disadvanatages:**\n",
    "\n",
    "1.   More number of calculations\n",
    "2.   When deploying, need to upload the whole X train set, so consumes a lot of memory. \n",
    "\n",
    "\n",
    "\n"
   ]
  },
  {
   "cell_type": "markdown",
   "id": "6773a536",
   "metadata": {
    "id": "6xRsvMITT25g",
    "papermill": {
     "duration": 0.021721,
     "end_time": "2023-02-19T16:53:07.222170",
     "exception": false,
     "start_time": "2023-02-19T16:53:07.200449",
     "status": "completed"
    },
    "tags": []
   },
   "source": [
    "# Code: KNN Imputer"
   ]
  },
  {
   "cell_type": "code",
   "execution_count": 31,
   "id": "6d8160ed",
   "metadata": {
    "execution": {
     "iopub.execute_input": "2023-02-19T16:53:07.269502Z",
     "iopub.status.busy": "2023-02-19T16:53:07.268185Z",
     "iopub.status.idle": "2023-02-19T16:53:07.274490Z",
     "shell.execute_reply": "2023-02-19T16:53:07.273616Z"
    },
    "id": "KRAXHXmm2AY7",
    "papermill": {
     "duration": 0.032495,
     "end_time": "2023-02-19T16:53:07.276715",
     "exception": false,
     "start_time": "2023-02-19T16:53:07.244220",
     "status": "completed"
    },
    "tags": []
   },
   "outputs": [],
   "source": [
    "import numpy as np\n",
    "import pandas as pd\n",
    "import matplotlib.pyplot as plt\n",
    "\n",
    "\n",
    "from sklearn.impute import KNNImputer , SimpleImputer\n",
    "from sklearn.linear_model import LogisticRegression\n",
    "\n",
    "from sklearn.model_selection import train_test_split\n",
    "from sklearn.metrics import accuracy_score"
   ]
  },
  {
   "cell_type": "code",
   "execution_count": 32,
   "id": "a943dc45",
   "metadata": {
    "execution": {
     "iopub.execute_input": "2023-02-19T16:53:07.324092Z",
     "iopub.status.busy": "2023-02-19T16:53:07.323361Z",
     "iopub.status.idle": "2023-02-19T16:53:07.337146Z",
     "shell.execute_reply": "2023-02-19T16:53:07.335740Z"
    },
    "id": "1Z8GsOuxWIHN",
    "papermill": {
     "duration": 0.040796,
     "end_time": "2023-02-19T16:53:07.339804",
     "exception": false,
     "start_time": "2023-02-19T16:53:07.299008",
     "status": "completed"
    },
    "tags": []
   },
   "outputs": [],
   "source": [
    "df3 = pd.read_csv('/kaggle/input/framingham-heart-study-dataset/framingham.csv')"
   ]
  },
  {
   "cell_type": "code",
   "execution_count": 33,
   "id": "4c77d77c",
   "metadata": {
    "execution": {
     "iopub.execute_input": "2023-02-19T16:53:07.387757Z",
     "iopub.status.busy": "2023-02-19T16:53:07.387300Z",
     "iopub.status.idle": "2023-02-19T16:53:07.407038Z",
     "shell.execute_reply": "2023-02-19T16:53:07.405766Z"
    },
    "id": "NWsyiH3qWdLC",
    "outputId": "ac33c987-5fc1-4cc7-dff9-0a5780e524fc",
    "papermill": {
     "duration": 0.046489,
     "end_time": "2023-02-19T16:53:07.409463",
     "exception": false,
     "start_time": "2023-02-19T16:53:07.362974",
     "status": "completed"
    },
    "tags": []
   },
   "outputs": [
    {
     "data": {
      "text/plain": [
       "['education', 'cigsPerDay', 'BPMeds', 'totChol', 'BMI', 'heartRate']"
      ]
     },
     "execution_count": 33,
     "metadata": {},
     "output_type": "execute_result"
    }
   ],
   "source": [
    "columnss = [var for var in df3.columns if df3[var].isnull().mean() < 0.05 and df3[var].isnull().mean() > 0]\n",
    "columnss"
   ]
  },
  {
   "cell_type": "code",
   "execution_count": 34,
   "id": "5d298804",
   "metadata": {
    "execution": {
     "iopub.execute_input": "2023-02-19T16:53:07.458742Z",
     "iopub.status.busy": "2023-02-19T16:53:07.458295Z",
     "iopub.status.idle": "2023-02-19T16:53:07.474936Z",
     "shell.execute_reply": "2023-02-19T16:53:07.473739Z"
    },
    "id": "rksJwEkQWqYk",
    "outputId": "dbfe5bb8-e443-4708-94a2-a3e497b86339",
    "papermill": {
     "duration": 0.044367,
     "end_time": "2023-02-19T16:53:07.477403",
     "exception": false,
     "start_time": "2023-02-19T16:53:07.433036",
     "status": "completed"
    },
    "tags": []
   },
   "outputs": [
    {
     "data": {
      "text/html": [
       "<div>\n",
       "<style scoped>\n",
       "    .dataframe tbody tr th:only-of-type {\n",
       "        vertical-align: middle;\n",
       "    }\n",
       "\n",
       "    .dataframe tbody tr th {\n",
       "        vertical-align: top;\n",
       "    }\n",
       "\n",
       "    .dataframe thead th {\n",
       "        text-align: right;\n",
       "    }\n",
       "</style>\n",
       "<table border=\"1\" class=\"dataframe\">\n",
       "  <thead>\n",
       "    <tr style=\"text-align: right;\">\n",
       "      <th></th>\n",
       "      <th>education</th>\n",
       "      <th>cigsPerDay</th>\n",
       "      <th>BPMeds</th>\n",
       "      <th>totChol</th>\n",
       "      <th>BMI</th>\n",
       "      <th>heartRate</th>\n",
       "    </tr>\n",
       "  </thead>\n",
       "  <tbody>\n",
       "    <tr>\n",
       "      <th>3032</th>\n",
       "      <td>1.0</td>\n",
       "      <td>10.0</td>\n",
       "      <td>0.0</td>\n",
       "      <td>310.0</td>\n",
       "      <td>20.52</td>\n",
       "      <td>52.0</td>\n",
       "    </tr>\n",
       "    <tr>\n",
       "      <th>1571</th>\n",
       "      <td>1.0</td>\n",
       "      <td>0.0</td>\n",
       "      <td>0.0</td>\n",
       "      <td>219.0</td>\n",
       "      <td>24.05</td>\n",
       "      <td>58.0</td>\n",
       "    </tr>\n",
       "    <tr>\n",
       "      <th>2301</th>\n",
       "      <td>1.0</td>\n",
       "      <td>0.0</td>\n",
       "      <td>0.0</td>\n",
       "      <td>180.0</td>\n",
       "      <td>26.32</td>\n",
       "      <td>95.0</td>\n",
       "    </tr>\n",
       "    <tr>\n",
       "      <th>1131</th>\n",
       "      <td>2.0</td>\n",
       "      <td>0.0</td>\n",
       "      <td>0.0</td>\n",
       "      <td>215.0</td>\n",
       "      <td>24.56</td>\n",
       "      <td>58.0</td>\n",
       "    </tr>\n",
       "    <tr>\n",
       "      <th>3476</th>\n",
       "      <td>2.0</td>\n",
       "      <td>0.0</td>\n",
       "      <td>0.0</td>\n",
       "      <td>165.0</td>\n",
       "      <td>26.79</td>\n",
       "      <td>75.0</td>\n",
       "    </tr>\n",
       "  </tbody>\n",
       "</table>\n",
       "</div>"
      ],
      "text/plain": [
       "      education  cigsPerDay  BPMeds  totChol    BMI  heartRate\n",
       "3032        1.0        10.0     0.0    310.0  20.52       52.0\n",
       "1571        1.0         0.0     0.0    219.0  24.05       58.0\n",
       "2301        1.0         0.0     0.0    180.0  26.32       95.0\n",
       "1131        2.0         0.0     0.0    215.0  24.56       58.0\n",
       "3476        2.0         0.0     0.0    165.0  26.79       75.0"
      ]
     },
     "execution_count": 34,
     "metadata": {},
     "output_type": "execute_result"
    }
   ],
   "source": [
    "df3[columnss].sample(5)"
   ]
  },
  {
   "cell_type": "code",
   "execution_count": 35,
   "id": "e38df3de",
   "metadata": {
    "execution": {
     "iopub.execute_input": "2023-02-19T16:53:07.525724Z",
     "iopub.status.busy": "2023-02-19T16:53:07.524898Z",
     "iopub.status.idle": "2023-02-19T16:53:07.535145Z",
     "shell.execute_reply": "2023-02-19T16:53:07.534243Z"
    },
    "id": "PymU8S23W2U0",
    "outputId": "a0f6acc4-771a-470d-dd3d-c4f45cd754c5",
    "papermill": {
     "duration": 0.037122,
     "end_time": "2023-02-19T16:53:07.537507",
     "exception": false,
     "start_time": "2023-02-19T16:53:07.500385",
     "status": "completed"
    },
    "tags": []
   },
   "outputs": [
    {
     "data": {
      "text/plain": [
       "education     2.476415\n",
       "cigsPerDay    0.683962\n",
       "BPMeds        1.250000\n",
       "totChol       1.179245\n",
       "BMI           0.448113\n",
       "heartRate     0.023585\n",
       "dtype: float64"
      ]
     },
     "execution_count": 35,
     "metadata": {},
     "output_type": "execute_result"
    }
   ],
   "source": [
    "df3[columnss].isnull().mean()*100"
   ]
  },
  {
   "cell_type": "code",
   "execution_count": 36,
   "id": "febeaa14",
   "metadata": {
    "execution": {
     "iopub.execute_input": "2023-02-19T16:53:07.584380Z",
     "iopub.status.busy": "2023-02-19T16:53:07.583936Z",
     "iopub.status.idle": "2023-02-19T16:53:07.592199Z",
     "shell.execute_reply": "2023-02-19T16:53:07.591354Z"
    },
    "id": "aEimjE5oW89q",
    "papermill": {
     "duration": 0.034752,
     "end_time": "2023-02-19T16:53:07.594719",
     "exception": false,
     "start_time": "2023-02-19T16:53:07.559967",
     "status": "completed"
    },
    "tags": []
   },
   "outputs": [],
   "source": [
    "x = df3[columnss].drop(columns = ['BMI'])\n",
    "y = df3[columnss]['BMI']"
   ]
  },
  {
   "cell_type": "code",
   "execution_count": 37,
   "id": "9ecd6bdf",
   "metadata": {
    "execution": {
     "iopub.execute_input": "2023-02-19T16:53:07.642734Z",
     "iopub.status.busy": "2023-02-19T16:53:07.641484Z",
     "iopub.status.idle": "2023-02-19T16:53:07.649268Z",
     "shell.execute_reply": "2023-02-19T16:53:07.648389Z"
    },
    "id": "Li8mwb7EXWhF",
    "papermill": {
     "duration": 0.034404,
     "end_time": "2023-02-19T16:53:07.651744",
     "exception": false,
     "start_time": "2023-02-19T16:53:07.617340",
     "status": "completed"
    },
    "tags": []
   },
   "outputs": [],
   "source": [
    "x_train , x_test , y_train , y_test = train_test_split(x,y,test_size=0.2,random_state=2)"
   ]
  },
  {
   "cell_type": "code",
   "execution_count": 38,
   "id": "f8f11c9b",
   "metadata": {
    "execution": {
     "iopub.execute_input": "2023-02-19T16:53:07.699535Z",
     "iopub.status.busy": "2023-02-19T16:53:07.699055Z",
     "iopub.status.idle": "2023-02-19T16:53:07.713315Z",
     "shell.execute_reply": "2023-02-19T16:53:07.712232Z"
    },
    "id": "Lda8UjMNXf9m",
    "outputId": "e9f1ac52-d472-401c-faeb-4cd0d14429ce",
    "papermill": {
     "duration": 0.040864,
     "end_time": "2023-02-19T16:53:07.715628",
     "exception": false,
     "start_time": "2023-02-19T16:53:07.674764",
     "status": "completed"
    },
    "tags": []
   },
   "outputs": [
    {
     "data": {
      "text/html": [
       "<div>\n",
       "<style scoped>\n",
       "    .dataframe tbody tr th:only-of-type {\n",
       "        vertical-align: middle;\n",
       "    }\n",
       "\n",
       "    .dataframe tbody tr th {\n",
       "        vertical-align: top;\n",
       "    }\n",
       "\n",
       "    .dataframe thead th {\n",
       "        text-align: right;\n",
       "    }\n",
       "</style>\n",
       "<table border=\"1\" class=\"dataframe\">\n",
       "  <thead>\n",
       "    <tr style=\"text-align: right;\">\n",
       "      <th></th>\n",
       "      <th>education</th>\n",
       "      <th>cigsPerDay</th>\n",
       "      <th>BPMeds</th>\n",
       "      <th>totChol</th>\n",
       "      <th>heartRate</th>\n",
       "    </tr>\n",
       "  </thead>\n",
       "  <tbody>\n",
       "    <tr>\n",
       "      <th>839</th>\n",
       "      <td>1.0</td>\n",
       "      <td>0.0</td>\n",
       "      <td>0.0</td>\n",
       "      <td>244.0</td>\n",
       "      <td>75.0</td>\n",
       "    </tr>\n",
       "    <tr>\n",
       "      <th>4078</th>\n",
       "      <td>1.0</td>\n",
       "      <td>0.0</td>\n",
       "      <td>0.0</td>\n",
       "      <td>214.0</td>\n",
       "      <td>78.0</td>\n",
       "    </tr>\n",
       "    <tr>\n",
       "      <th>180</th>\n",
       "      <td>1.0</td>\n",
       "      <td>0.0</td>\n",
       "      <td>0.0</td>\n",
       "      <td>300.0</td>\n",
       "      <td>81.0</td>\n",
       "    </tr>\n",
       "    <tr>\n",
       "      <th>3399</th>\n",
       "      <td>4.0</td>\n",
       "      <td>0.0</td>\n",
       "      <td>0.0</td>\n",
       "      <td>288.0</td>\n",
       "      <td>68.0</td>\n",
       "    </tr>\n",
       "    <tr>\n",
       "      <th>221</th>\n",
       "      <td>2.0</td>\n",
       "      <td>9.0</td>\n",
       "      <td>0.0</td>\n",
       "      <td>180.0</td>\n",
       "      <td>85.0</td>\n",
       "    </tr>\n",
       "  </tbody>\n",
       "</table>\n",
       "</div>"
      ],
      "text/plain": [
       "      education  cigsPerDay  BPMeds  totChol  heartRate\n",
       "839         1.0         0.0     0.0    244.0       75.0\n",
       "4078        1.0         0.0     0.0    214.0       78.0\n",
       "180         1.0         0.0     0.0    300.0       81.0\n",
       "3399        4.0         0.0     0.0    288.0       68.0\n",
       "221         2.0         9.0     0.0    180.0       85.0"
      ]
     },
     "execution_count": 38,
     "metadata": {},
     "output_type": "execute_result"
    }
   ],
   "source": [
    "x_train.head()"
   ]
  },
  {
   "cell_type": "code",
   "execution_count": 39,
   "id": "586ba530",
   "metadata": {
    "execution": {
     "iopub.execute_input": "2023-02-19T16:53:07.763006Z",
     "iopub.status.busy": "2023-02-19T16:53:07.762581Z",
     "iopub.status.idle": "2023-02-19T16:53:07.861696Z",
     "shell.execute_reply": "2023-02-19T16:53:07.860052Z"
    },
    "id": "av74Szk-XirQ",
    "papermill": {
     "duration": 0.127611,
     "end_time": "2023-02-19T16:53:07.866176",
     "exception": false,
     "start_time": "2023-02-19T16:53:07.738565",
     "status": "completed"
    },
    "tags": []
   },
   "outputs": [],
   "source": [
    "knn = KNNImputer(n_neighbors = 3)\n",
    "\n",
    "x_train_trf = knn.fit_transform(x_train)\n",
    "x_test_trf = knn.transform(x_test)"
   ]
  },
  {
   "cell_type": "code",
   "execution_count": 40,
   "id": "eabba28f",
   "metadata": {
    "execution": {
     "iopub.execute_input": "2023-02-19T16:53:07.976102Z",
     "iopub.status.busy": "2023-02-19T16:53:07.975709Z",
     "iopub.status.idle": "2023-02-19T16:53:07.995043Z",
     "shell.execute_reply": "2023-02-19T16:53:07.993841Z"
    },
    "id": "8u8GQMsSXk6W",
    "outputId": "eb3d5f76-0d43-44d8-bcf1-c5c56b5b6d26",
    "papermill": {
     "duration": 0.071981,
     "end_time": "2023-02-19T16:53:07.997527",
     "exception": false,
     "start_time": "2023-02-19T16:53:07.925546",
     "status": "completed"
    },
    "tags": []
   },
   "outputs": [
    {
     "data": {
      "text/html": [
       "<div>\n",
       "<style scoped>\n",
       "    .dataframe tbody tr th:only-of-type {\n",
       "        vertical-align: middle;\n",
       "    }\n",
       "\n",
       "    .dataframe tbody tr th {\n",
       "        vertical-align: top;\n",
       "    }\n",
       "\n",
       "    .dataframe thead th {\n",
       "        text-align: right;\n",
       "    }\n",
       "</style>\n",
       "<table border=\"1\" class=\"dataframe\">\n",
       "  <thead>\n",
       "    <tr style=\"text-align: right;\">\n",
       "      <th></th>\n",
       "      <th>education</th>\n",
       "      <th>cigsPerDay</th>\n",
       "      <th>BPMeds</th>\n",
       "      <th>totChol</th>\n",
       "      <th>heartRate</th>\n",
       "    </tr>\n",
       "  </thead>\n",
       "  <tbody>\n",
       "    <tr>\n",
       "      <th>0</th>\n",
       "      <td>1.0</td>\n",
       "      <td>0.0</td>\n",
       "      <td>0.0</td>\n",
       "      <td>244.0</td>\n",
       "      <td>75.0</td>\n",
       "    </tr>\n",
       "    <tr>\n",
       "      <th>1</th>\n",
       "      <td>1.0</td>\n",
       "      <td>0.0</td>\n",
       "      <td>0.0</td>\n",
       "      <td>214.0</td>\n",
       "      <td>78.0</td>\n",
       "    </tr>\n",
       "    <tr>\n",
       "      <th>2</th>\n",
       "      <td>1.0</td>\n",
       "      <td>0.0</td>\n",
       "      <td>0.0</td>\n",
       "      <td>300.0</td>\n",
       "      <td>81.0</td>\n",
       "    </tr>\n",
       "    <tr>\n",
       "      <th>3</th>\n",
       "      <td>4.0</td>\n",
       "      <td>0.0</td>\n",
       "      <td>0.0</td>\n",
       "      <td>288.0</td>\n",
       "      <td>68.0</td>\n",
       "    </tr>\n",
       "    <tr>\n",
       "      <th>4</th>\n",
       "      <td>2.0</td>\n",
       "      <td>9.0</td>\n",
       "      <td>0.0</td>\n",
       "      <td>180.0</td>\n",
       "      <td>85.0</td>\n",
       "    </tr>\n",
       "    <tr>\n",
       "      <th>...</th>\n",
       "      <td>...</td>\n",
       "      <td>...</td>\n",
       "      <td>...</td>\n",
       "      <td>...</td>\n",
       "      <td>...</td>\n",
       "    </tr>\n",
       "    <tr>\n",
       "      <th>3387</th>\n",
       "      <td>2.0</td>\n",
       "      <td>0.0</td>\n",
       "      <td>0.0</td>\n",
       "      <td>200.0</td>\n",
       "      <td>75.0</td>\n",
       "    </tr>\n",
       "    <tr>\n",
       "      <th>3388</th>\n",
       "      <td>1.0</td>\n",
       "      <td>5.0</td>\n",
       "      <td>0.0</td>\n",
       "      <td>279.0</td>\n",
       "      <td>67.0</td>\n",
       "    </tr>\n",
       "    <tr>\n",
       "      <th>3389</th>\n",
       "      <td>1.0</td>\n",
       "      <td>0.0</td>\n",
       "      <td>0.0</td>\n",
       "      <td>211.0</td>\n",
       "      <td>60.0</td>\n",
       "    </tr>\n",
       "    <tr>\n",
       "      <th>3390</th>\n",
       "      <td>4.0</td>\n",
       "      <td>0.0</td>\n",
       "      <td>0.0</td>\n",
       "      <td>189.0</td>\n",
       "      <td>75.0</td>\n",
       "    </tr>\n",
       "    <tr>\n",
       "      <th>3391</th>\n",
       "      <td>3.0</td>\n",
       "      <td>0.0</td>\n",
       "      <td>0.0</td>\n",
       "      <td>350.0</td>\n",
       "      <td>92.0</td>\n",
       "    </tr>\n",
       "  </tbody>\n",
       "</table>\n",
       "<p>3392 rows × 5 columns</p>\n",
       "</div>"
      ],
      "text/plain": [
       "      education  cigsPerDay  BPMeds  totChol  heartRate\n",
       "0           1.0         0.0     0.0    244.0       75.0\n",
       "1           1.0         0.0     0.0    214.0       78.0\n",
       "2           1.0         0.0     0.0    300.0       81.0\n",
       "3           4.0         0.0     0.0    288.0       68.0\n",
       "4           2.0         9.0     0.0    180.0       85.0\n",
       "...         ...         ...     ...      ...        ...\n",
       "3387        2.0         0.0     0.0    200.0       75.0\n",
       "3388        1.0         5.0     0.0    279.0       67.0\n",
       "3389        1.0         0.0     0.0    211.0       60.0\n",
       "3390        4.0         0.0     0.0    189.0       75.0\n",
       "3391        3.0         0.0     0.0    350.0       92.0\n",
       "\n",
       "[3392 rows x 5 columns]"
      ]
     },
     "execution_count": 40,
     "metadata": {},
     "output_type": "execute_result"
    }
   ],
   "source": [
    "pd.DataFrame(x_train_trf, columns= x_train.columns)"
   ]
  },
  {
   "cell_type": "markdown",
   "id": "23aa2e69",
   "metadata": {
    "id": "4zaSkYAvYOb9",
    "papermill": {
     "duration": 0.023365,
     "end_time": "2023-02-19T16:53:08.044363",
     "exception": false,
     "start_time": "2023-02-19T16:53:08.020998",
     "status": "completed"
    },
    "tags": []
   },
   "source": [
    "**Inference:** In this dataframe all the missing values have been imputed using KNN imputer."
   ]
  },
  {
   "cell_type": "code",
   "execution_count": 41,
   "id": "189f82af",
   "metadata": {
    "execution": {
     "iopub.execute_input": "2023-02-19T16:53:08.093268Z",
     "iopub.status.busy": "2023-02-19T16:53:08.092221Z",
     "iopub.status.idle": "2023-02-19T16:53:08.102258Z",
     "shell.execute_reply": "2023-02-19T16:53:08.101475Z"
    },
    "id": "cn6Amu0zYGtQ",
    "papermill": {
     "duration": 0.036955,
     "end_time": "2023-02-19T16:53:08.104576",
     "exception": false,
     "start_time": "2023-02-19T16:53:08.067621",
     "status": "completed"
    },
    "tags": []
   },
   "outputs": [],
   "source": [
    "#comparision with Simple Imputer --> mean\n",
    " \n",
    "si = SimpleImputer()\n",
    "\n",
    "x_train_trf2 = si.fit_transform(x_train)\n",
    "x_test_trf2 = si.transform(x_test)"
   ]
  },
  {
   "cell_type": "markdown",
   "id": "07ef4447",
   "metadata": {
    "id": "uEYrSCLDbCXY",
    "papermill": {
     "duration": 0.022932,
     "end_time": "2023-02-19T16:53:08.151084",
     "exception": false,
     "start_time": "2023-02-19T16:53:08.128152",
     "status": "completed"
    },
    "tags": []
   },
   "source": [
    "## 6.Filling Missing Values: Multivariate Imputation : Iterative Imputer"
   ]
  },
  {
   "cell_type": "markdown",
   "id": "dbe00a02",
   "metadata": {
    "id": "vYRKj8bvbC1T",
    "papermill": {
     "duration": 0.022892,
     "end_time": "2023-02-19T16:53:08.197062",
     "exception": false,
     "start_time": "2023-02-19T16:53:08.174170",
     "status": "completed"
    },
    "tags": []
   },
   "source": [
    "Iterative Imputer also known as MICE(Multivariate Imputation by Chained Equations)"
   ]
  },
  {
   "cell_type": "markdown",
   "id": "eafca672",
   "metadata": {
    "id": "FkXrPTgybDLj",
    "papermill": {
     "duration": 0.022868,
     "end_time": "2023-02-19T16:53:08.243024",
     "exception": false,
     "start_time": "2023-02-19T16:53:08.220156",
     "status": "completed"
    },
    "tags": []
   },
   "source": [
    "**Assumptions:** So we have 3 types of Missing Data:\n",
    "\n",
    "*   MCAR : Missing Completely At Random\n",
    "*   MAR : Missing At Random\n",
    "*   MNAR : Missing Not At Random\n",
    "\n",
    "It is an assumption that technique works the best with **MAR : Missing At Random**."
   ]
  },
  {
   "cell_type": "markdown",
   "id": "51b35a8c",
   "metadata": {
    "id": "7IyKREbWcByy",
    "papermill": {
     "duration": 0.022943,
     "end_time": "2023-02-19T16:53:08.289215",
     "exception": false,
     "start_time": "2023-02-19T16:53:08.266272",
     "status": "completed"
    },
    "tags": []
   },
   "source": [
    "**Advantages:**\n",
    "\n",
    "1.   Accurate\n",
    "\n",
    "\n",
    "**Disadvantages:**\n",
    "\n",
    "1.   Slow\n",
    "2.   deploy the entire training set on server.\n",
    "\n",
    "\n",
    "\n"
   ]
  },
  {
   "cell_type": "markdown",
   "id": "9570d7d1",
   "metadata": {
    "id": "rMIHPDemcCYN",
    "papermill": {
     "duration": 0.022983,
     "end_time": "2023-02-19T16:53:08.335519",
     "exception": false,
     "start_time": "2023-02-19T16:53:08.312536",
     "status": "completed"
    },
    "tags": []
   },
   "source": [
    "**How it works:**\n",
    "\n",
    "Step 1 : Fill the missing values by using their mean. Replacing the missing values filled by mean to NaN. Why? to predict these values.\n",
    "\n",
    "Step 2 : Moving left to right, remove all col1 missing values, predict the missing values of col1 using other cols.\n",
    "\n",
    "Step 3 : remove all col2 missing values, predict the missing values of col2 using other cols.\n",
    "\n",
    "Step 4 : Remove all col3 values and goes on.."
   ]
  },
  {
   "cell_type": "markdown",
   "id": "5e4d22bd",
   "metadata": {
    "id": "5CuSBbifecUr",
    "papermill": {
     "duration": 0.023086,
     "end_time": "2023-02-19T16:53:08.381798",
     "exception": false,
     "start_time": "2023-02-19T16:53:08.358712",
     "status": "completed"
    },
    "tags": []
   },
   "source": [
    "**Iterations:**\n",
    "\n",
    "Iteration 0: all mean values\n",
    "\n",
    "Iteration 1: subtract Iteration1 - Iteration0 and goes on...\n",
    "\n",
    "Difference table: we get a difference table after subtraction."
   ]
  },
  {
   "cell_type": "code",
   "execution_count": null,
   "id": "b0385b57",
   "metadata": {
    "papermill": {
     "duration": 0.022954,
     "end_time": "2023-02-19T16:53:08.428184",
     "exception": false,
     "start_time": "2023-02-19T16:53:08.405230",
     "status": "completed"
    },
    "tags": []
   },
   "outputs": [],
   "source": []
  }
 ],
 "metadata": {
  "kernelspec": {
   "display_name": "Python 3",
   "language": "python",
   "name": "python3"
  },
  "language_info": {
   "codemirror_mode": {
    "name": "ipython",
    "version": 3
   },
   "file_extension": ".py",
   "mimetype": "text/x-python",
   "name": "python",
   "nbconvert_exporter": "python",
   "pygments_lexer": "ipython3",
   "version": "3.7.12"
  },
  "papermill": {
   "default_parameters": {},
   "duration": 16.607537,
   "end_time": "2023-02-19T16:53:09.174566",
   "environment_variables": {},
   "exception": null,
   "input_path": "__notebook__.ipynb",
   "output_path": "__notebook__.ipynb",
   "parameters": {},
   "start_time": "2023-02-19T16:52:52.567029",
   "version": "2.3.4"
  }
 },
 "nbformat": 4,
 "nbformat_minor": 5
}
